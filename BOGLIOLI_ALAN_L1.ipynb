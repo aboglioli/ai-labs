{
  "nbformat": 4,
  "nbformat_minor": 0,
  "metadata": {
    "colab": {
      "name": "BOGLIOLI_ALAN_L1",
      "provenance": [],
      "collapsed_sections": []
    },
    "kernelspec": {
      "name": "python3",
      "display_name": "Python 3"
    }
  },
  "cells": [
    {
      "cell_type": "markdown",
      "metadata": {
        "id": "O2n5l4MTcxfM",
        "colab_type": "text"
      },
      "source": [
        "# **Laboratorio 1: Búsqueda en Espacios de Estados**\n",
        "## **Inteligencia Artificial - DISI 2020**\n",
        "### Alan Boglioli\n",
        "#### Legajo: 38507"
      ]
    },
    {
      "cell_type": "markdown",
      "metadata": {
        "id": "m3-RkeqchYdD",
        "colab_type": "text"
      },
      "source": [
        "En esta práctica aplicaremos los algoritmos de búsqueda vistos en clase, viendo cómo se comportan en algunos problemas como el 8 puzzle y las Torres de Hanoi. \n",
        "\n",
        "El código que se usa en esta práctica está basado principalmente en el código Python que se proporciona con el libro \"Artificial Intelligence: A Modern Approach\" de S. Russell y P. Norvig (https://code.google.com/archive/p/aima-python/source/default/source, módulo search.py). \n",
        "\n",
        "**Nota:** Las _modificaciones al código_ y la _traducción_ fueron realizadas por _José Luis Ruiz Reina_ (Depto. de Ciencias de la Computación e Inteligencia Artificial de la Universidad de Sevilla)."
      ]
    },
    {
      "cell_type": "markdown",
      "metadata": {
        "id": "DlzvVdKrdKc_",
        "colab_type": "text"
      },
      "source": [
        "## Pre-requisitos\n",
        "* Tener una cuenta de Google (gmail)\n",
        "* Tener instalado el navegador Google Chrome\n",
        "* Contar con conectividad a Internet\n",
        "* Conocimientos básicos de programación con el lenguaje _python_\n"
      ]
    },
    {
      "cell_type": "markdown",
      "metadata": {
        "id": "U2VTwKI1e7_i",
        "colab_type": "text"
      },
      "source": [
        "## Entrega y uso del laboratorio\n",
        "\n",
        "### Uso\n",
        "\n",
        "* Antes de cualquier cosa, **cree una copia de este cuaderno:** \n",
        "  * `Click` en **File**\n",
        "  * luego **Save a Copy in Drive**\n",
        "  * Renombre el archivo con el siguiente formato: `APELLIDO_NOMBRE_L1.ipynb` \n",
        "* Use el _notebook_, complete las actividades y consignas que se requieran \n",
        "* Este laboratorio es una actividad *individual* pero se fomenta el intercambio de opiniones en clase\n",
        "\n",
        "### Entrega\n",
        "\n",
        "Una vez finalizado el laboratorio, complete [el formulario de entrega](https://docs.google.com/forms/d/e/1FAIpQLSelaLy2lvxIC7qdyKVoHLj7CZ_MpJ-5K8YDKeHwjotUqIeVHA/viewform) indicando:\n",
        " * `Apellido`\n",
        " * `Nombre`\n",
        " * `Nro Legajo`\n",
        " * `Turno (tarde o noche)`\n",
        " * `link de su notebook`. El mismo se obtiene si realiza click en **Compartir/Share** (esquina superior derecha) y luego en **Obtener link para compartir/Get shareable link**  \n",
        " \n",
        "NOTA: No se aceptarán otras formas de entrega distintas a la mencionada.\n",
        "\n",
        "**Fecha límite de entrega:** se indicará en clase o en el aula virtual. "
      ]
    },
    {
      "cell_type": "markdown",
      "metadata": {
        "id": "ap-1Muc7n0Pc",
        "colab_type": "text"
      },
      "source": [
        "# Consideraciones\n",
        "\n",
        "En el ejercicio final se ha cambiado la **BúsquedaEnProfundidad** por una **BúsquedaEnProfundidadAcotada** para asegurar que la búsqueda sea completa, es decir, termine."
      ]
    },
    {
      "cell_type": "markdown",
      "metadata": {
        "id": "B50jwlnciXJU",
        "colab_type": "text"
      },
      "source": [
        "# PARTE I: Representación de Espacios de Estados"
      ]
    },
    {
      "cell_type": "markdown",
      "metadata": {
        "id": "CShO6MO3idup",
        "colab_type": "text"
      },
      "source": [
        "Recuérde que según lo que se ha visto en clase, la implementación de la \n",
        "representación de un problema de espacio de estados consiste en:\n",
        "\n",
        " * Representar **estados** y **acciones** mediante una ***estructura de datos***.\n",
        " * Definir **estado inicial**, **estado final**, **acciones**, **función sucesor** y **coste de aplicar accion**, si el problema tiene coste.\n",
        "\n",
        "\n",
        "La siguiente  clase `Problema` representa el esquema general de cualquier problema de espacio de estados. \n",
        "\n",
        "Un problema concreto será una *subclase* de `Problema`, y requerirá implementar o sobreescribir las funciones: `acciones`, `aplica` y eventualmente `init`, `es_estado_final` y `coste_de_aplicar_accion`.\n"
      ]
    },
    {
      "cell_type": "code",
      "metadata": {
        "id": "J58Ixuiyj8r6",
        "colab_type": "code",
        "colab": {}
      },
      "source": [
        "class Problema(object):\n",
        "    \"\"\"\n",
        "\n",
        "    Clase abstracta para un problema de espacio de estados. \n",
        "    \n",
        "    Los problemas concretos habría que definirlos como subclases de Problema, implementando\n",
        "    acciones, aplica y eventualmente __init__, es_estado_final y\n",
        "    coste_de_aplicar_accion. \n",
        "    \n",
        "    Una vez hecho esto, se han de crear instancias de\n",
        "    dicha subclase, que serán la entrada a los distintos algoritmos de\n",
        "    resolución mediante búsqueda.\n",
        "\n",
        "    \"\"\"  \n",
        "    \n",
        "    def __init__(self, estado_inicial, estado_final=None):\n",
        "        \"\"\"\n",
        "        El constructor de la clase especifica el estado inicial y puede que un estado_final, si es que es único. \n",
        "        Las subclases podrían añadir otros argumentos\n",
        "        \"\"\"  \n",
        "        self.estado_inicial = estado_inicial\n",
        "        self.estado_final = estado_final\n",
        "\n",
        "    def acciones_aplicables(self, estado):\n",
        "        \"\"\"\n",
        "        Devuelve las acciones aplicables a un estado dado. \n",
        "        Lo normal es que aquí se devuelva una lista, pero si hay muchas se podría devolver\n",
        "        un iterador, ya que sería más eficiente.\n",
        "        \"\"\"\n",
        "        pass\n",
        "\n",
        "    def aplica(self, estado, accion):\n",
        "        \"\"\" \n",
        "        Devuelve el estado resultante de aplicar accion a estado. \n",
        "        Se supone que accion es aplicable a estado (es decir, debe ser una de las acciones de self.acciones(estado)).\n",
        "        \"\"\"\n",
        "        pass\n",
        "\n",
        "    def es_estado_final(self, estado):\n",
        "        \"\"\"\n",
        "        Devuelve True cuando estado es final. \n",
        "        Por defecto, compara con el estado final, si éste se hubiera especificado al constructor. \n",
        "        Si se da el caso de que no hubiera un único estado final, o se definiera mediante otro tipo de comprobación, habría que redefinir este método\n",
        "        \"\"\" \n",
        "        return estado == self.estado_final\n",
        "\n",
        "    def coste_de_aplicar_accion(self, estado, accion):\n",
        "        \"\"\"\n",
        "        Devuelve el coste de aplicar accion a estado. \n",
        "        Por defecto, este\n",
        "        coste es 1. \n",
        "        Reimplementar si el problema define otro coste \"\"\" \n",
        "        return 1"
      ],
      "execution_count": 0,
      "outputs": []
    },
    {
      "cell_type": "markdown",
      "metadata": {
        "id": "OooKyzBikHop",
        "colab_type": "text"
      },
      "source": [
        "## Un ejemplo: el **problema de las jarras**"
      ]
    },
    {
      "cell_type": "markdown",
      "metadata": {
        "id": "ICh-1YSakT6T",
        "colab_type": "text"
      },
      "source": [
        "**Enunciado**:\n",
        "  - Se tienen dos jarras, de 4 y 3 litros respectivamente.\n",
        "  - Ninguna de ellas tiene marcas de medición.\n",
        "  - Se tiene una bomba que permite llenar las jarras de agua.\n",
        "  - Averiguar cómo se puede lograr tener exactamente 2 litros de agua en la jarra de 4 litros de capacidad.\n",
        "\n",
        "**Estado inicial**: el estado inical se representa con la tupla (0 0). \n",
        "\n"
      ]
    },
    {
      "cell_type": "markdown",
      "metadata": {
        "id": "Pn5NCUdFRYUC",
        "colab_type": "text"
      },
      "source": [
        "\n",
        "### ¿Cual sería la representación para un estado final?\n",
        "\n",
        "\n"
      ]
    },
    {
      "cell_type": "code",
      "metadata": {
        "id": "8j_Thor8Rmhk",
        "colab_type": "code",
        "outputId": "3b7fd910-4613-4abe-901f-3970a9eb3557",
        "colab": {
          "base_uri": "https://localhost:8080/",
          "height": 34
        }
      },
      "source": [
        "un_estado_final_jarras = (2, 2)\n",
        "un_estado_final_jarras"
      ],
      "execution_count": 0,
      "outputs": [
        {
          "output_type": "execute_result",
          "data": {
            "text/plain": [
              "(2, 2)"
            ]
          },
          "metadata": {
            "tags": []
          },
          "execution_count": 10
        }
      ]
    },
    {
      "cell_type": "markdown",
      "metadata": {
        "id": "xtjy84CdRmyw",
        "colab_type": "text"
      },
      "source": [
        "\n",
        "**Acciones**:\n",
        "  - Llenar la jarra de 4 litros con la bomba.\n",
        "  - Llenar la jarra de 3 litros con la bomba.\n",
        "  - Vaciar la jarra de 4 litros en el suelo.\n",
        "  - Vaciar la jarra de 3 litros en el suelo.\n",
        "  - Trasvasar de la jarra de 4 litros a la jarra de 3 litros. Si se llena la jarra de 3 litros, el sobrante permanece en la jarra de 4 litros.\n",
        "  - Trasvasar de jarra de 3 litros a la jarra de 4 litros. Si se llena la jarra de 4 litros, el sobrante permanece en la jarra de 3 litros.\n"
      ]
    },
    {
      "cell_type": "markdown",
      "metadata": {
        "id": "xRBXHoqFnjxz",
        "colab_type": "text"
      },
      "source": [
        "La clase `Jarras` implementada a continuación hereda de `Problema` y formaliza este problema implementando las funciones acorde."
      ]
    },
    {
      "cell_type": "code",
      "metadata": {
        "id": "6_8tOKl4kU81",
        "colab_type": "code",
        "colab": {}
      },
      "source": [
        "class Jarras(Problema):\n",
        "    \"\"\"\n",
        "    Problema de las jarras:\n",
        "      Representaremos los estados como tuplas (x,y) de dos números enteros, donde \n",
        "        x es el número de litros de la jarra de 4 \n",
        "        y es el número de litros de la jarra de 3\n",
        "    \"\"\"\n",
        "    \n",
        "    def __init__(self):\n",
        "        self.estado_inicial = (0,0)\n",
        "\n",
        "    def acciones_aplicables(self,estado):\n",
        "        jarra_de_4=estado[0]\n",
        "        jarra_de_3=estado[1]\n",
        "        accs=list()\n",
        "        if jarra_de_4 > 0:\n",
        "            accs.append(\"vaciar jarra de 4\")\n",
        "            if jarra_de_3 < 3:\n",
        "                accs.append(\"trasvasar de jarra de 4 a jarra de 3\")\n",
        "        if jarra_de_4 < 4:\n",
        "            accs.append(\"llenar jarra de 4\")\n",
        "            if jarra_de_3 > 0:\n",
        "                accs.append(\"trasvasar de jarra de 3 a jarra de 4\")\n",
        "        if jarra_de_3 > 0:\n",
        "            accs.append(\"vaciar jarra de 3\")\n",
        "        if jarra_de_3 < 3:\n",
        "            accs.append(\"llenar jarra de 3\")\n",
        "        return accs\n",
        "\n",
        "    def aplica(self,estado,accion):\n",
        "        j4=estado[0]\n",
        "        j3=estado[1]\n",
        "        if accion==\"llenar jarra de 4\":\n",
        "            return (4,j3)\n",
        "        elif accion==\"llenar jarra de 3\":\n",
        "            return (j4,3)\n",
        "        elif accion==\"vaciar jarra de 4\":\n",
        "            return (0,j3)\n",
        "        elif accion==\"vaciar jarra de 3\":\n",
        "            return (j4,0)\n",
        "        elif accion==\"trasvasar de jarra de 4 a jarra de 3\":\n",
        "            return (j4-3+j3,3) if j3+j4 >= 3 else (0,j3+j4)\n",
        "        elif accion ==\"trasvasar de jarra de 3 a jarra de 4\":\n",
        "            return (j3+j4,0) if j3+j4 <= 4 else (4,j3-4+j4)\n",
        "\n",
        "    def es_estado_final(self,estado):\n",
        "        return estado[0]==2       "
      ],
      "execution_count": 0,
      "outputs": []
    },
    {
      "cell_type": "markdown",
      "metadata": {
        "id": "rTbDwVr5lXfB",
        "colab_type": "text"
      },
      "source": [
        " ---\n",
        "## **Ejercicio 1**\n",
        " \n",
        " **Completar el código** que se presenta a continuación, en los lugares marcados con interrogantes para entender el funcionamiento de la implementación del problema de las jarras de la celda anterior y responder las preguntas que se presenan.\n",
        "\n",
        "**NO modifique el nombre de las variables**\n",
        "\n",
        "\n"
      ]
    },
    {
      "cell_type": "markdown",
      "metadata": {
        "id": "nK0wV5wwIJ9f",
        "colab_type": "text"
      },
      "source": [
        "### 1. ¿Cuales son las acciones disponibles a partir del estado inicial en el problema de las jarras?\n"
      ]
    },
    {
      "cell_type": "code",
      "metadata": {
        "id": "JnZ3SmAzIPZu",
        "colab_type": "code",
        "outputId": "51f0c20a-972d-4efe-9aa1-92b363315621",
        "colab": {
          "base_uri": "https://localhost:8080/",
          "height": 52
        }
      },
      "source": [
        "# instanciar el problema\n",
        "problema_jarras_4_3 = Jarras()\n",
        "\n",
        "# obtener el estado inicial\n",
        "estado_inicial_jarras_4_3 =  problema_jarras_4_3.estado_inicial\n",
        "print('El estado incial es {}'.format(estado_inicial_jarras_4_3))\n",
        "\n",
        "#obtener las acciones\n",
        "acciones_jarras_4_3_inicial = problema_jarras_4_3.acciones_aplicables(estado_inicial_jarras_4_3)\n",
        "print('Acciones disponibles en estado {} --> {}'.format(estado_inicial_jarras_4_3,acciones_jarras_4_3_inicial))\n"
      ],
      "execution_count": 0,
      "outputs": [
        {
          "output_type": "stream",
          "text": [
            "El estado incial es (0, 0)\n",
            "Acciones disponibles en estado (0, 0) --> ['llenar jarra de 4', 'llenar jarra de 3']\n"
          ],
          "name": "stdout"
        }
      ]
    },
    {
      "cell_type": "markdown",
      "metadata": {
        "id": "T6H9dhYNId9i",
        "colab_type": "text"
      },
      "source": [
        "### 2. ¿Cuál es el coste de aplicar la segunda acción disponible al estado inicial?"
      ]
    },
    {
      "cell_type": "code",
      "metadata": {
        "id": "52HjQu5MI9EZ",
        "colab_type": "code",
        "outputId": "9a92ee7c-c487-46d7-ad9a-ec9c33554e45",
        "colab": {
          "base_uri": "https://localhost:8080/",
          "height": 34
        }
      },
      "source": [
        "# obtener el coste de la accion indicada\n",
        "coste_estado_1_jarras_4_3 = problema_jarras_4_3.coste_de_aplicar_accion(estado_inicial_jarras_4_3, acciones_jarras_4_3_inicial[1])\n",
        "print('El coste de esa acción es {}'.format(coste_estado_1_jarras_4_3))"
      ],
      "execution_count": 0,
      "outputs": [
        {
          "output_type": "stream",
          "text": [
            "El coste de esa acción es 1\n"
          ],
          "name": "stdout"
        }
      ]
    },
    {
      "cell_type": "markdown",
      "metadata": {
        "id": "F0OtOtVIJExd",
        "colab_type": "text"
      },
      "source": [
        "### 3. ¿Es el estado resultado un estado el final? "
      ]
    },
    {
      "cell_type": "code",
      "metadata": {
        "id": "WY26C0LP8PQp",
        "colab_type": "code",
        "outputId": "9ff39247-9f01-4b0a-cea2-a73c735c7d68",
        "colab": {
          "base_uri": "https://localhost:8080/",
          "height": 52
        }
      },
      "source": [
        "# obtener el estado resultado\n",
        "estado_1_jarras_4_3 = problema_jarras_4_3.aplica(estado_inicial_jarras_4_3, acciones_jarras_4_3_inicial[1])\n",
        "print('Estado obtenido luego de aplicar accion {} --> {}'.format(acciones_jarras_4_3_inicial[1],estado_1_jarras_4_3))\n",
        "\n",
        "# checkear si es estado final del problema\n",
        "print('Es este el estado final ? --> {}'.format(problema_jarras_4_3.es_estado_final(estado_1_jarras_4_3)))\n"
      ],
      "execution_count": 0,
      "outputs": [
        {
          "output_type": "stream",
          "text": [
            "Estado obtenido luego de aplicar accion llenar jarra de 3 --> (0, 3)\n",
            "Es este el estado final ? --> False\n"
          ],
          "name": "stdout"
        }
      ]
    },
    {
      "cell_type": "markdown",
      "metadata": {
        "id": "vDTa-V-amQw6",
        "colab_type": "text"
      },
      "source": [
        "---\n",
        "## **Ejercicio 2**\n",
        "\n",
        "Clase que implementa un problema de espacio de estados para la representación del problema del **8-puzzle**. \n"
      ]
    },
    {
      "cell_type": "code",
      "metadata": {
        "id": "-R3Z5PAeoUJp",
        "colab_type": "code",
        "colab": {}
      },
      "source": [
        "class Ocho_Puzzle(Problema):\n",
        "    \"\"\"\n",
        "    Los estados serán tuplas de nueve elementos, permutaciones de los números del 0 al 8 (el 0 es el hueco). \n",
        "    Representan la disposición de las fichas en el tablero, leídas por filas de arriba a abajo, y dentro de cada fila, de izquierda a derecha. \n",
        "    \n",
        "    Por ejemplo, el estado final será la tupla (1, 2, 3, 8, 0, 4, 7, 6, 5) y representa el estado del mundo real dado por\n",
        "\n",
        "    | 1 | 2 | 3 |\n",
        "    | 8 | 0 | 4 |\n",
        "    | 7 | 6 | 5 |\n",
        "    \n",
        "    Las cuatro acciones del problema las representaremos mediante las cadenas:\n",
        "    \"Mover hueco arriba\", \"Mover hueco abajo\", \"Mover hueco izquierda\" y \"Mover hueco derecha\", respectivamente.\n",
        "    \"\"\"\n",
        "\n",
        "    def __init__(self,tablero_inicial):\n",
        "        self.estado_inicial = tablero_inicial \n",
        "        self.estado_final = (1, 2, 3, 8, 0, 4, 7, 6, 5) \n",
        "\n",
        "    def acciones_aplicables(self,estado):\n",
        "        pos_hueco=estado.index(0)\n",
        "        accs=list()\n",
        "        if pos_hueco not in (0,1,2):\n",
        "            accs.append(\"Mover hueco arriba\")\n",
        "        if pos_hueco not in (0,3,6): \n",
        "          accs.append(\"Mover hueco izquierda\")\n",
        "        if pos_hueco not in (6,7,8): \n",
        "          accs.append(\"Mover hueco abajo\")\n",
        "        if pos_hueco not in (2,5,8):\n",
        "          accs.append(\"Mover hueco derecha\") \n",
        "        return accs     \n",
        "\n",
        "    def aplica(self,estado,accion):\n",
        "        pos_hueco = estado.index(0)\n",
        "        l = list(estado)\n",
        "        if accion == \"Mover hueco arriba\":\n",
        "            l[pos_hueco] = l[pos_hueco-3]\n",
        "            l[pos_hueco-3] = 0\n",
        "        if accion == \"Mover hueco abajo\":\n",
        "            l[pos_hueco] = l[pos_hueco+3]\n",
        "            l[pos_hueco+3] = 0\n",
        "        if accion == \"Mover hueco derecha\":\n",
        "            l[pos_hueco] = l[pos_hueco+1]\n",
        "            l[pos_hueco+1] = 0\n",
        "        if accion == \"Mover hueco izquierda\":\n",
        "            l[pos_hueco] = l[pos_hueco-1]\n",
        "            l[pos_hueco-1] = 0\n",
        "        return tuple(l)    "
      ],
      "execution_count": 0,
      "outputs": []
    },
    {
      "cell_type": "markdown",
      "metadata": {
        "id": "-0eZoL9AoDRG",
        "colab_type": "text"
      },
      "source": [
        " **Completar el código** que se presenta a continuación, en los lugares marcados con interrogantes para validar el funcionamiento de la implementación del problema del 8 puzzle y responder las preguntas a continuación.\n",
        " \n",
        " **NO modifique el nombre de las variables**\n",
        "\n"
      ]
    },
    {
      "cell_type": "markdown",
      "metadata": {
        "id": "AENJBCnww850",
        "colab_type": "text"
      },
      "source": [
        "\n",
        "   ### 1. Cuáles son las acciones disponibles a partir del siguiente estado inicial ?\n",
        "   \n",
        "```\n",
        "                                  | 2 | 8 | 3 |\n",
        "                                  | 1 | 6 | 4 |\n",
        "                                  | 7 | 0 | 5 |\n",
        "```\n",
        "   "
      ]
    },
    {
      "cell_type": "code",
      "metadata": {
        "id": "3ou8E0nxxAma",
        "colab_type": "code",
        "outputId": "7765d9fc-a3f4-44b5-fde4-17f4bbef7b77",
        "colab": {
          "base_uri": "https://localhost:8080/",
          "height": 52
        }
      },
      "source": [
        "# instanciar un problema de 8 puzzle usando la clase anterior\n",
        "p8p_1 = Ocho_Puzzle((2, 8, 3, 1, 6, 4, 7, 0, 5))\n",
        "\n",
        "# obtener el estado inicial\n",
        "estado_0 = p8p_1.estado_inicial\n",
        "\n",
        "# obtener las acciones aplicables de ese estado\n",
        "acciones_e0 = p8p_1.acciones_aplicables(estado_0)\n",
        "\n",
        "print('Las acciones disponibles desde el estado inicial {} son: \\n {}'.format(estado_0, acciones_e0))"
      ],
      "execution_count": 0,
      "outputs": [
        {
          "output_type": "stream",
          "text": [
            "Las acciones disponibles desde el estado inicial (2, 8, 3, 1, 6, 4, 7, 0, 5) son: \n",
            " ['Mover hueco arriba', 'Mover hueco izquierda', 'Mover hueco derecha']\n"
          ],
          "name": "stdout"
        }
      ]
    },
    {
      "cell_type": "markdown",
      "metadata": {
        "id": "hFb2VHMSxA9R",
        "colab_type": "text"
      },
      "source": [
        "### 2. Cual es el estado final ?\n"
      ]
    },
    {
      "cell_type": "code",
      "metadata": {
        "id": "dY56Ie9gxwqi",
        "colab_type": "code",
        "outputId": "fb0893b2-26d7-4438-be66-09be19b70d14",
        "colab": {
          "base_uri": "https://localhost:8080/",
          "height": 34
        }
      },
      "source": [
        "# obtener el estado final desde el problema\n",
        "estado_n = p8p_1.estado_final\n",
        "\n",
        "print('El estado final es {}'.format(estado_n))"
      ],
      "execution_count": 0,
      "outputs": [
        {
          "output_type": "stream",
          "text": [
            "El estado final es (1, 2, 3, 8, 0, 4, 7, 6, 5)\n"
          ],
          "name": "stdout"
        }
      ]
    },
    {
      "cell_type": "markdown",
      "metadata": {
        "id": "X1Xk_NNuxw6d",
        "colab_type": "text"
      },
      "source": [
        "### 3. Cual es el estado que se obtiene si aplico la tercera acción disponible al estado inicial ?\n",
        "\n",
        "\n"
      ]
    },
    {
      "cell_type": "code",
      "metadata": {
        "id": "oBY8abKJyNfV",
        "colab_type": "code",
        "outputId": "63171da2-b15c-4b87-b52a-dbd05dd21b8b",
        "colab": {
          "base_uri": "https://localhost:8080/",
          "height": 54
        }
      },
      "source": [
        "# obtener la tercera accion disponible desde el estado incial\n",
        "tercera_accion = acciones_e0[2]\n",
        "# aplicarla al estado incial\n",
        "estado_a3 = p8p_1.aplica(estado_0, tercera_accion)\n",
        "\n",
        "print('El resultado de aplicar la tercera accion disponible (\\\"{}\\\") en el estado inicial {} es {}'.format(tercera_accion,estado_0,estado_a3))"
      ],
      "execution_count": 0,
      "outputs": [
        {
          "output_type": "stream",
          "text": [
            "El resultado de aplicar la tercera accion disponible (\"Mover hueco derecha\") en el estado inicial (2, 8, 3, 1, 6, 4, 7, 0, 5) es (2, 8, 3, 1, 6, 4, 7, 5, 0)\n"
          ],
          "name": "stdout"
        }
      ]
    },
    {
      "cell_type": "markdown",
      "metadata": {
        "id": "s9LeNjRNyphw",
        "colab_type": "text"
      },
      "source": [
        "### 4. Valide si es el estado final\n"
      ]
    },
    {
      "cell_type": "code",
      "metadata": {
        "id": "naR6THF3zDRS",
        "colab_type": "code",
        "outputId": "5a953def-e76d-47b6-9862-03cc462439f6",
        "colab": {
          "base_uri": "https://localhost:8080/",
          "height": 34
        }
      },
      "source": [
        "# usar el problema para saber si es estado inicial\n",
        "es_final = p8p_1.es_estado_final(estado_a3)\n",
        "\n",
        "print('Es {} el estado final ? --> {}'.format(estado_a3, es_final))"
      ],
      "execution_count": 0,
      "outputs": [
        {
          "output_type": "stream",
          "text": [
            "Es (2, 8, 3, 1, 6, 4, 7, 5, 0) el estado final ? --> False\n"
          ],
          "name": "stdout"
        }
      ]
    },
    {
      "cell_type": "markdown",
      "metadata": {
        "colab_type": "text",
        "id": "vvbsmd_kUBM1"
      },
      "source": [
        "---\n",
        "## **Ejercicio 3**\n",
        "\n",
        "A continuación tenemos algunas clases que nos permitirán hacer una implementación Genérica del **Rompecabezas de las Torres de Hanoi**"
      ]
    },
    {
      "cell_type": "markdown",
      "metadata": {
        "id": "Vnewx5JRkT4h",
        "colab_type": "text"
      },
      "source": [
        "El rompecabezas de las Torres de Hanoi consta de tres varillas verticales y un número de discos, que determinará la complejidad del problema, todos de distinto tamaño y apilados de mayor a menor radio en la primera varilla.\n",
        "\n",
        "El objetivo del juego es pasar todos los discos de la primera a la última varilla, siguiendo tres simples reglas:\n",
        "1. Se desplaza un disco cada vez.\n",
        "2. Solo se pueden desplazar los discos de arriba de las varillas.\n",
        "3. No se puede colocar un disco sobre otro más pequeño."
      ]
    },
    {
      "cell_type": "markdown",
      "metadata": {
        "id": "juDODnwvkT4i",
        "colab_type": "text"
      },
      "source": [
        "En esta parte de la práctica se mostrará cómo implementar el rompecabezas de las Torres de Hanoi como un problema de espacio de estados y se aplicarán distintos algoritmos de búsqueda para resolverlo."
      ]
    },
    {
      "cell_type": "markdown",
      "metadata": {
        "id": "XRRTQVo9kT4j",
        "colab_type": "text"
      },
      "source": [
        "Para implementar un problema de espacio de estados copiamos aquí las clases de objetos proporcionadas por el módulo `problema_espacio_estados` (`problema_espacio_estados.py`)."
      ]
    },
    {
      "cell_type": "markdown",
      "metadata": {
        "id": "BDe8DB2NwzhW",
        "colab_type": "text"
      },
      "source": [
        "El código de este módulo incluye la definición de dos clases genéricas para la formulación de un problema de busqueda. Separamos la clase original `Problema` en dos, de manera que las acciones se representan al heredar de la clase `Acción` y el problema con su estado inicial, final y función sucesor a partir de la clase `ProblemaEspacioEstados`"
      ]
    },
    {
      "cell_type": "code",
      "metadata": {
        "id": "fLeHi7DoxAS9",
        "colab_type": "code",
        "colab": {}
      },
      "source": [
        "\n",
        "class Acción:\n",
        "\n",
        "    def __init__(self, nombre='', aplicabilidad=None, aplicación=None,\n",
        "                 coste=None):\n",
        "        self.nombre = nombre\n",
        "        self.aplicabilidad = aplicabilidad\n",
        "        self.aplicación = aplicación\n",
        "        self.coste = coste\n",
        "\n",
        "    def es_aplicable(self, estado):\n",
        "        if self.aplicabilidad is None:\n",
        "            raise NotImplementedError('Aplicabilidad de la acción no implementada')\n",
        "        else:  return self.aplicabilidad(estado)\n",
        "\n",
        "    def aplicar(self, estado):\n",
        "        if self.aplicar is None:\n",
        "            raise NotImplementedError('Aplicación de la acción no implementada')\n",
        "        else: return self.aplicación(estado)\n",
        "\n",
        "    def coste_de_aplicar(self, estado):\n",
        "        if self.coste is None:  return 1\n",
        "        else:  return self.coste(estado)\n",
        "        \n",
        "    def __str__(self):\n",
        "        return 'Acción: {}'.format(self.nombre)"
      ],
      "execution_count": 0,
      "outputs": []
    },
    {
      "cell_type": "code",
      "metadata": {
        "id": "ty7twhh2xSaa",
        "colab_type": "code",
        "colab": {}
      },
      "source": [
        "class ProblemaEspacioEstados(Problema):\n",
        "\n",
        "    def __init__(self, acciones, estado_inicial=None, estados_finales=None):\n",
        "        if not isinstance(acciones, list):\n",
        "            raise TypeError('Debe proporcionarse una lista de acciones')\n",
        "        self.acciones = acciones\n",
        "        self.estado_inicial = estado_inicial\n",
        "        self.estados_finales = estados_finales\n",
        "\n",
        "    def es_estado_final(self, estado):\n",
        "        return estado in self.estados_finales\n",
        "        \n",
        "    def acciones_aplicables(self, estado):\n",
        "        return (acción for acción in self.acciones if acción.es_aplicable(estado))"
      ],
      "execution_count": 0,
      "outputs": []
    },
    {
      "cell_type": "markdown",
      "metadata": {
        "id": "QuXeRJJwkT40",
        "colab_type": "text"
      },
      "source": [
        "**El primer paso es decidir cómo se van a implementar los estados**\n",
        "\n",
        "Para el rompecabezas de las Torres de Hanoi una opción es hacerlo mediante una lista que guarde para cada varilla el conjunto de los discos que hay en ella.\n",
        "\n",
        "### Implemente dos estados para el problema de las torres con 2 discos donde :\n",
        " * `estado1` : la varilla 1 tiene el disco 2 y la varilla 3 el disco 1\n",
        " * `estado2` : la varilla 1 tiene el disco 1 y la varilla 3 el disco 2\n",
        " "
      ]
    },
    {
      "cell_type": "code",
      "metadata": {
        "id": "7HplazPXkT42",
        "colab_type": "code",
        "colab": {}
      },
      "source": [
        "estado1 = [{2}, set(), {1}]\n",
        "estado2 = [{1}, set(), {2}]"
      ],
      "execution_count": 0,
      "outputs": []
    },
    {
      "cell_type": "markdown",
      "metadata": {
        "id": "IlpImxMgkT47",
        "colab_type": "text"
      },
      "source": [
        "A continuación **hay que implementar las acciones como instancias de la clase** `Acción`, proporcionando un `nombre`, una `función de aplicabilidad` y una `función de aplicación para cada acción`. \n",
        "\n",
        "Por ejemplo, la acción `De 1 a 3` que mueve un disco de la primera a la tercera varilla se puede implementar de la siguiente manera:"
      ]
    },
    {
      "cell_type": "code",
      "metadata": {
        "id": "bwLKY5A8kT48",
        "colab_type": "code",
        "colab": {}
      },
      "source": [
        "def está_vacía(estado, varilla):\n",
        "    return not bool(estado[varilla - 1])\n",
        "\n",
        "def disco_superior(estado, varilla):\n",
        "    return min(estado[varilla - 1])\n",
        "\n",
        "def aplicabilidad(estado):\n",
        "    return (not está_vacía(estado, 1) and\n",
        "            (está_vacía(estado, 3) or\n",
        "             disco_superior(estado, 1) < disco_superior(estado, 3)))\n",
        "    \n",
        "def quitar_disco(estado, varilla):\n",
        "    disco = disco_superior(estado, varilla)\n",
        "    estado[varilla - 1].remove(disco)\n",
        "    return disco\n",
        "\n",
        "def poner_disco(estado, varilla, disco):\n",
        "    estado[varilla - 1].add(disco)\n",
        "\n",
        "def aplicación(estado):\n",
        "    import copy\n",
        "    nuevo_estado = copy.deepcopy(estado)\n",
        "    disco = quitar_disco(nuevo_estado, 1)\n",
        "    poner_disco(nuevo_estado, 3, disco)\n",
        "    return nuevo_estado\n",
        "    \n",
        "a13 = Acción('De 1 a 3', aplicabilidad, aplicación)"
      ],
      "execution_count": 0,
      "outputs": []
    },
    {
      "cell_type": "markdown",
      "metadata": {
        "id": "D8aSgrC7kT5N",
        "colab_type": "text"
      },
      "source": [
        "Normalmente las acciones se pueden **agrupar en distintos tipos**, cada uno de los cuales puede ser implementado de manera abstracta mediante una clase que herede de la clase `Acción`."
      ]
    },
    {
      "cell_type": "markdown",
      "metadata": {
        "id": "tpEr0X0xkT5O",
        "colab_type": "text"
      },
      "source": [
        "Para el rompecabezas de las Torres de Hanoi, todas las acciones son del tipo mover un disco de una varilla a otra. En este caso, consideramos que el coste de mover un disco es siempre 1, el valor por defecto. \n",
        "\n",
        "En caso de que fuera distinto, al crear una instancia de la clase `Acción` se puede proporcionar una función `coste`, o bien al heredar de la clase `Acción` se puede redefinir el método `coste_de_aplicar`."
      ]
    },
    {
      "cell_type": "markdown",
      "metadata": {
        "id": "yJSF2r4jeEwh",
        "colab_type": "text"
      },
      "source": [
        "A continuación se implementó una sub-clase de `Accion` que representa el movimiento de discos. \n",
        "\n"
      ]
    },
    {
      "cell_type": "code",
      "metadata": {
        "id": "9Ahl3MVPkT5P",
        "colab_type": "code",
        "colab": {}
      },
      "source": [
        "import copy\n",
        "\n",
        "class MoverDisco(Acción):\n",
        "  \n",
        "    def __init__(self, i, j):\n",
        "        nombre = 'De {} a {}'.format(i, j)\n",
        "        super().__init__(nombre)\n",
        "        self.varilla_de = i \n",
        "        self.varilla_a = j    \n",
        "\n",
        "    def está_vacía(self, estado, varilla):\n",
        "        return not bool(estado[varilla - 1])  \n",
        "\n",
        "    def disco_superior(self, estado, varilla):\n",
        "        try :\n",
        "            return min(estado[varilla - 1])\n",
        "        except :\n",
        "            return float('inf')\n",
        "\n",
        "    def es_aplicable(self, estado):\n",
        "        varilla_de_llena = not self.está_vacía(estado, self.varilla_de) \n",
        "        varilla_a_vacia = self.está_vacía(estado, self.varilla_a)\n",
        "        if varilla_de_llena and varilla_a_vacia:\n",
        "            return True \n",
        "        elif not varilla_a_vacia:\n",
        "            disco_superior_de_menor_disco_superior_a = self.disco_superior(estado, self.varilla_de) < self.disco_superior(estado, self.varilla_a)   \n",
        "            return disco_superior_de_menor_disco_superior_a\n",
        "        \n",
        "    def quitar_disco(self, estado, varilla):\n",
        "        disco = self.disco_superior(estado, varilla)\n",
        "        estado[varilla - 1].remove(disco) \n",
        "        return disco\n",
        "\n",
        "    def poner_disco(self, estado, varilla, disco):\n",
        "        estado[varilla - 1].add(disco)    \n",
        "\n",
        "    def aplicar(self, estado):\n",
        "        nuevo_estado = copy.deepcopy(estado) \n",
        "        disco = self.quitar_disco(nuevo_estado, self.varilla_de) \n",
        "        self.poner_disco(nuevo_estado, self.varilla_a, disco)\n",
        "        return nuevo_estado"
      ],
      "execution_count": 0,
      "outputs": []
    },
    {
      "cell_type": "markdown",
      "metadata": {
        "id": "oV87I8ZHkT5T",
        "colab_type": "text"
      },
      "source": [
        "Finalmente, **un problema de espacio de estados se implementa como una instancia de la clase `ProblemaEspacioEstados`**, proporcionando una lista de `acciones`, un `estado inicial` y una lista de `estados finales`."
      ]
    },
    {
      "cell_type": "markdown",
      "metadata": {
        "id": "wShFvYAbesq9",
        "colab_type": "text"
      },
      "source": [
        "**Completar el código** que se presenta a continuación, en los lugares marcados con interrogantes para instanciar un problema de espacio de estados que permita resolver las _torres de hanoi_ con dos discos y responder las preguntas.\n",
        "\n",
        "**NO cambiar el nombre de las variables**\n",
        "\n",
        "El estado inicial para el problema con dos discos sería el siguiente : \n",
        "\n",
        "```  \n",
        "\n",
        "                    |  |  |\n",
        "                    1  |  | \n",
        "                    2  |  | \n",
        "                  -----------   \n",
        "\n",
        "```"
      ]
    },
    {
      "cell_type": "code",
      "metadata": {
        "id": "wsO3Gi0mkT5U",
        "colab_type": "code",
        "outputId": "0cf716cd-f65f-4b13-fb1f-21b4a4c25319",
        "colab": {
          "base_uri": "https://localhost:8080/",
          "height": 121
        }
      },
      "source": [
        "# crea una lista de acciones Mover Disco\n",
        "acciones =  [MoverDisco(i, j) for i in range(1, 4) for j in range(1, 4) if i != j]\n",
        "for a in acciones:\n",
        "  print(a.nombre)\n",
        "# instanciar estado incial como lista de tuplas\n",
        "estado_inicial = [{1,2}, set(), set()] # acciones[0]\n",
        "# instancia el estado final como lista de tuplas\n",
        "estado_final = [set(), set(), {1, 2}]\n",
        "# instanciar el ProblemaEspacioEstados\n",
        "Torres_Hanoi_2_discos = ProblemaEspacioEstados(acciones, estado_inicial, [estado_final]) # Considera múltiples estados finales"
      ],
      "execution_count": 0,
      "outputs": [
        {
          "output_type": "stream",
          "text": [
            "De 1 a 2\n",
            "De 1 a 3\n",
            "De 2 a 1\n",
            "De 2 a 3\n",
            "De 3 a 1\n",
            "De 3 a 2\n"
          ],
          "name": "stdout"
        }
      ]
    },
    {
      "cell_type": "markdown",
      "metadata": {
        "id": "8OKLI-k7-kvR",
        "colab_type": "text"
      },
      "source": [
        "### 1. El `estado1` definido anteriormente, es estado final?\n"
      ]
    },
    {
      "cell_type": "code",
      "metadata": {
        "id": "EUvm-wVYkT5X",
        "colab_type": "code",
        "outputId": "8c8e65aa-320e-4057-9ff4-9859a12428ac",
        "colab": {
          "base_uri": "https://localhost:8080/",
          "height": 34
        }
      },
      "source": [
        "# usar el problema Torres_Hanoi_2_discos para saber si estado1 es final\n",
        "es_estado1_final = Torres_Hanoi_2_discos.es_estado_final(estado1) \n",
        "print('Es el estado {} un estado final? --> {}'.format(estado1,es_estado1_final))"
      ],
      "execution_count": 0,
      "outputs": [
        {
          "output_type": "stream",
          "text": [
            "Es el estado [{2}, set(), {1}] un estado final? --> False\n"
          ],
          "name": "stdout"
        }
      ]
    },
    {
      "cell_type": "markdown",
      "metadata": {
        "id": "EnSEAB7l_RDN",
        "colab_type": "text"
      },
      "source": [
        "### 2. El estado resultado de aplicar la acción `a13` sobre el `estado2`, es final de acuerdo a este problema?\n",
        "  "
      ]
    },
    {
      "cell_type": "code",
      "metadata": {
        "id": "u2MrWu_ZkT5b",
        "colab_type": "code",
        "outputId": "86238629-30d6-4361-80ad-e6ffef4ad8a6",
        "colab": {
          "base_uri": "https://localhost:8080/",
          "height": 34
        }
      },
      "source": [
        "# usar a13 sobre estado2\n",
        "estado3 = a13.aplicar(estado2)\n",
        "# usar Torres_Hanoi_2_discos para ver si estado3 es final\n",
        "es_estado3_final =  Torres_Hanoi_2_discos.es_estado_final(estado3)\n",
        "print('El resultado de aplicar {} al estado {} es {}, es un estado final? --> {}'.format(a13,estado2,estado3,es_estado3_final))"
      ],
      "execution_count": 0,
      "outputs": [
        {
          "output_type": "stream",
          "text": [
            "El resultado de aplicar Acción: De 1 a 3 al estado [{1}, set(), {2}] es [set(), set(), {1, 2}], es un estado final? --> True\n"
          ],
          "name": "stdout"
        }
      ]
    },
    {
      "cell_type": "markdown",
      "metadata": {
        "id": "EGwb6CzjAAc9",
        "colab_type": "text"
      },
      "source": [
        "### 3. Cuales son las acciones aplicables desde el `estado1`?\n",
        "  "
      ]
    },
    {
      "cell_type": "code",
      "metadata": {
        "id": "6PZUyIC1kT5g",
        "colab_type": "code",
        "outputId": "22d13499-71eb-42c7-e2f2-8a5243d5bbd5",
        "colab": {
          "base_uri": "https://localhost:8080/",
          "height": 104
        }
      },
      "source": [
        "print('Las acciones aplicables en el estado {} son: \\n'.format(estado1))\n",
        "for acción in Torres_Hanoi_2_discos.acciones_aplicables(estado1): # usar  Torres_Hanoi_2_discos para tener las acciones aplicables en estado1\n",
        "    print(acción.nombre)"
      ],
      "execution_count": 0,
      "outputs": [
        {
          "output_type": "stream",
          "text": [
            "Las acciones aplicables en el estado [{2}, set(), {1}] son: \n",
            "\n",
            "De 1 a 2\n",
            "De 3 a 1\n",
            "De 3 a 2\n"
          ],
          "name": "stdout"
        }
      ]
    },
    {
      "cell_type": "markdown",
      "metadata": {
        "id": "EPRzIVeJpcxE",
        "colab_type": "text"
      },
      "source": [
        "# PARTE II. Experimentando"
      ]
    },
    {
      "cell_type": "markdown",
      "metadata": {
        "id": "9TscSuG8kT5o",
        "colab_type": "text"
      },
      "source": [
        "El procedimiento para realizar una búsqueda en un espacio de estados consiste en crear una instancia de una clase que implemente un algoritmo de búsqueda, proporcionando los argumentos necesarios, y aplicar el método buscar de esa instancia al problema de espacio de estados.\n",
        "\n",
        "Las clases correspondientes a los algoritmos de búsqueda más comunes son las siguientes:\n",
        "* `BúsquedaEnAnchura`\n",
        "* `BúsquedaEnProfundidad`\n",
        "* `BúsquedaPrimeroElMejor`: hay que proporcionar la función de evaluación heurística `f`.\n",
        "* `BúsquedaÓptima`\n",
        "* `BúsquedaAEstrella`: hay que proporcionar la función de estimación del coste `h`.\n",
        "\n",
        "Adicionalmente, todas las clases anteriores admiten establecer el argumento `detallado` a `True`, para que al realizar una búsqueda se imprima por pantalla su traza."
      ]
    },
    {
      "cell_type": "markdown",
      "metadata": {
        "id": "_fOL4kTQ2WcY",
        "colab_type": "text"
      },
      "source": [
        "---\n",
        "## **Ejercicio 4**\n",
        "\n",
        "\n",
        "A cotinuación se presentan una serie de clases accesorias que nos van a permitir realizar las búsquedas que necesitamos."
      ]
    },
    {
      "cell_type": "code",
      "metadata": {
        "id": "PxS-ioGGEcoq",
        "colab_type": "code",
        "colab": {}
      },
      "source": [
        "import collections\n",
        "import heapq\n",
        "import types\n",
        "\n",
        "\n",
        "class ListaNodos(collections.deque):\n",
        "\n",
        "    def añadir(self, nodo): \n",
        "      self.append(nodo)\n",
        "    \n",
        "    def vaciar(self): \n",
        "      self.clear()\n",
        "    \n",
        "    def __contains__(self, nodo):\n",
        "        return any(x.estado == nodo.estado for x in self)\n",
        "\n",
        "class PilaNodos(ListaNodos):\n",
        "    \n",
        "    def sacar(self):  \n",
        "      return self.pop()\n",
        "\n",
        "class ColaNodos(ListaNodos):\n",
        "\n",
        "    def sacar(self):  \n",
        "      return self.popleft()\n",
        "\n",
        "class ColaNodosConPrioridad:\n",
        "    \n",
        "    def __init__(self):\n",
        "        self.nodos = []\n",
        "        self.nodo_generado = 0\n",
        "    \n",
        "    def añadir(self, nodo):\n",
        "        heapq.heappush(self.nodos, (nodo.heurística, self.nodo_generado, nodo))\n",
        "        self.nodo_generado += 1\n",
        "    \n",
        "    def sacar(self):\n",
        "        return heapq.heappop(self.nodos)[2]\n",
        "    \n",
        "    def vaciar(self):\n",
        "        self.__init__()\n",
        "    \n",
        "    def __iter__(self):\n",
        "        return iter(self.nodos)\n",
        "    \n",
        "    def __contains__(self, nodo):\n",
        "        return any(x[2].estado == nodo.estado and x[2].heurística <= nodo.heurística for x in self.nodos)\n",
        "\n",
        "\n",
        "class NodoSimple:\n",
        "    \n",
        "    def __init__(self, estado, padre=None, acción=None):\n",
        "        self.estado = estado # Estado que representa el nodo\n",
        "        self.padre = padre # Nodo padre\n",
        "        self.acción = acción # Acción aplicada por la que se llegó al nodo\n",
        "    \n",
        "    def es_raíz(self): \n",
        "      return self.padre is None # El nodo raíz es el único sin padre\n",
        "    \n",
        "    def sucesor(self, acción):\n",
        "        Nodo = self.__class__\n",
        "        return Nodo(acción.aplicar(self.estado), self, acción) # Nueva instancia de nodo con estado a partir de aplicar la acción al estado actual\n",
        "    \n",
        "    def solución(self):\n",
        "        if self.es_raíz():  acciones = [] # Caso base. No se aplican acciones para llegar a la razón, es el padre.\n",
        "        else:\n",
        "            acciones = self.padre.solución() # Camino solución del padre\n",
        "            acciones.append(self.acción.nombre) # Camino solución del padre + acción para llegar a nodo actual\n",
        "        return acciones\n",
        "    \n",
        "    def __str__(self):  return 'Estado: {}'.format(self.estado)\n",
        "\n",
        "class NodoConProfundidad(NodoSimple):\n",
        "    \n",
        "    def __init__(self, estado, padre=None, acción=None):\n",
        "        super().__init__(estado, padre, acción)\n",
        "        if self.es_raíz():  \n",
        "            self.profundidad = 0 # El nodo raíz tiene profundidad 0\n",
        "        else:   \n",
        "            self.profundidad = padre.profundidad + 1 # Aumenta en 1 la profundidad del padre: nuevo nivel de profundidad.\n",
        "    \n",
        "    def __str__(self):\n",
        "        return 'Estado: {0}; Prof: {1}'.format(self.estado, self.profundidad)\n",
        "\n",
        "class NodoConHeurística(NodoSimple):\n",
        "    \n",
        "    def __init__(self, estado, padre=None, acción=None):\n",
        "        super().__init__(estado, padre, acción)\n",
        "        if self.es_raíz():\n",
        "            self.profundidad = 0\n",
        "            self.coste = 0\n",
        "        else:\n",
        "            self.profundidad = padre.profundidad + 1\n",
        "            self.coste = padre.coste + acción.coste_de_aplicar(padre.estado)\n",
        "        self.heurística = self.f(self)\n",
        "    \n",
        "    @staticmethod\n",
        "    def f(nodo):\n",
        "        return 0\n",
        "    \n",
        "    def __str__(self):\n",
        "        return 'Estado: {0}; Prof: {1}; Heur: {2}; Coste: {3}'.format(\n",
        "            self.estado, self.profundidad, self.heurística, self.coste)\n",
        "\n"
      ],
      "execution_count": 0,
      "outputs": []
    },
    {
      "cell_type": "code",
      "metadata": {
        "id": "04nlsEDH7a70",
        "colab_type": "code",
        "colab": {}
      },
      "source": [
        "\n",
        "class BúsquedaGeneral:\n",
        "\n",
        "    def __init__(self, detallado=False):\n",
        "        self.detallado = detallado\n",
        "        if self.detallado:  \n",
        "            self.Nodo = NodoConProfundidad\n",
        "        else:  \n",
        "            self.Nodo = NodoSimple\n",
        "        self.explorados = ListaNodos()\n",
        "    \n",
        "    def es_expandible(self, nodo): \n",
        "        return True\n",
        "    \n",
        "    def expandir_nodo(self, nodo, problema):\n",
        "        return [nodo.sucesor(acción) for acción in problema.acciones_aplicables(nodo.estado)]\n",
        "    \n",
        "    def es_nuevo(self, nodo):\n",
        "        return (nodo not in self.frontera and\n",
        "                nodo not in self.explorados)\n",
        "    \n",
        "    def buscar(self, problema):\n",
        "        self.frontera.vaciar()\n",
        "        self.explorados.vaciar()\n",
        "        self.frontera.añadir(self.Nodo(problema.estado_inicial))\n",
        "    \n",
        "        while True:\n",
        "          if not self.frontera:\n",
        "              return None\n",
        "          nodo = self.frontera.sacar() # Sacar\n",
        "          if self.detallado:\n",
        "              print('{0}Nodo: {1}'.format('  ' * nodo.profundidad, nodo))\n",
        "          \n",
        "          if problema.es_estado_final(nodo.estado): # Evaluar\n",
        "              return nodo.solución()\n",
        "          \n",
        "          self.explorados.añadir(nodo)\n",
        "          \n",
        "          if self.es_expandible(nodo):\n",
        "              nodos_hijos = self.expandir_nodo(nodo, problema) # Generar\n",
        "              for nodo_hijo in nodos_hijos:\n",
        "                  if self.es_nuevo(nodo_hijo): # Evita repeticiones\n",
        "                      self.frontera.añadir(nodo_hijo) # Poner\n",
        "\n",
        "\n",
        "class BúsquedaEnAnchura(BúsquedaGeneral):\n",
        "    \n",
        "    def __init__(self, detallado=False):\n",
        "        super().__init__(detallado)\n",
        "        self.frontera = ColaNodos()\n",
        "\n",
        "class BúsquedaEnProfundidad(BúsquedaGeneral):\n",
        "\n",
        "    def __init__(self, detallado=False):\n",
        "        super().__init__(detallado)\n",
        "        self.frontera = PilaNodos()\n",
        "        self.explorados = PilaNodos()\n",
        "\n",
        "    def añadir_vaciando_rama(self, nodo):\n",
        "        if self:\n",
        "            while True:\n",
        "                último_nodo = self.pop()\n",
        "                if último_nodo == nodo.padre:\n",
        "                    self.append(último_nodo)\n",
        "                    break\n",
        "        self.append(nodo)\n",
        "        self.explorados.añadir = types.MethodType(añadir_vaciando_rama,self.explorados)\n",
        "\n",
        "class BúsquedaEnProfundidadAcotada(BúsquedaEnProfundidad):\n",
        "    def __init__(self, cota, detallado=False):\n",
        "        super().__init__(detallado)\n",
        "        self.Nodo = NodoConProfundidad\n",
        "        self.cota = cota\n",
        "\n",
        "    def es_expandible(self, nodo):\n",
        "        return nodo.profundidad < self.cota\n",
        "\n",
        "class BúsquedaEnProfundidadIterativa:\n",
        "    def __init__(self, cota_final, cota_inicial=0, detallado=False):\n",
        "        self.cota_inicial = cota_inicial\n",
        "        self.cota_final = cota_final\n",
        "        self.detallado = detallado\n",
        "\n",
        "    def buscar(self, problema):\n",
        "        for cota in range(self.cota_inicial, self.cota_final):\n",
        "            bpa = BúsquedaEnProfundidadAcotada(cota, self.detallado)\n",
        "            solución = bpa.buscar(problema)\n",
        "            if solución:\n",
        "                return solución\n",
        "\n",
        "class BúsquedaPrimeroElMejor(BúsquedaGeneral):\n",
        "    def __init__(self, f, detallado=False):\n",
        "        super().__init__(detallado)\n",
        "        self.Nodo = NodoConHeurística\n",
        "        self.Nodo.f = staticmethod(f)\n",
        "        self.frontera = ColaNodosConPrioridad()\n",
        "        self.explorados = ListaNodos()\n",
        "        self.explorados.__contains__ = types.MethodType(\n",
        "            lambda self, nodo: any(x.estado == nodo.estado and\n",
        "                                   x.heurística <= nodo.heurística\n",
        "                                   for x in self),\n",
        "            self.explorados)\n",
        "        \n",
        "class BúsquedaÓptima(BúsquedaPrimeroElMejor):\n",
        "    def __init__(self, detallado=False):\n",
        "        def coste(nodo):  return nodo.coste\n",
        "        super().__init__(coste, detallado)\n",
        "\n",
        "class BúsquedaAEstrella(BúsquedaPrimeroElMejor):\n",
        "    def __init__(self, h, detallado=False):\n",
        "        def coste(nodo):\n",
        "            return nodo.coste\n",
        "        def f(nodo):\n",
        "            return coste(nodo) + h(nodo)\n",
        "        super().__init__(f, detallado)"
      ],
      "execution_count": 0,
      "outputs": []
    },
    {
      "cell_type": "markdown",
      "metadata": {
        "id": "ixF2C-rUdlLL",
        "colab_type": "text"
      },
      "source": [
        "#### 1. Aplicar la búsqueda en anchura al problema de las torres de Hanoi de 2 discos anteriormente implementado. Usa la búsqueda detallada para entender como funciona. "
      ]
    },
    {
      "cell_type": "code",
      "metadata": {
        "id": "0mSlZoSxkT5p",
        "colab_type": "code",
        "outputId": "282479ba-d350-4e7d-e460-f7362c4c9fd6",
        "colab": {
          "base_uri": "https://localhost:8080/",
          "height": 156
        }
      },
      "source": [
        "# instanciar una BusquedaEnAnchura detallada\n",
        "b_anchura = BúsquedaEnAnchura(True) \n",
        "solucion_anchura_hanoi_2 = b_anchura.buscar(Torres_Hanoi_2_discos)\n",
        "print(solucion_anchura_hanoi_2)"
      ],
      "execution_count": 0,
      "outputs": [
        {
          "output_type": "stream",
          "text": [
            "Nodo: Estado: [{1, 2}, set(), set()]; Prof: 0\n",
            "  Nodo: Estado: [{2}, {1}, set()]; Prof: 1\n",
            "  Nodo: Estado: [{2}, set(), {1}]; Prof: 1\n",
            "    Nodo: Estado: [set(), {1}, {2}]; Prof: 2\n",
            "    Nodo: Estado: [set(), {2}, {1}]; Prof: 2\n",
            "      Nodo: Estado: [{1}, set(), {2}]; Prof: 3\n",
            "      Nodo: Estado: [set(), set(), {1, 2}]; Prof: 3\n",
            "['De 1 a 2', 'De 1 a 3', 'De 2 a 3']\n"
          ],
          "name": "stdout"
        }
      ]
    },
    {
      "cell_type": "markdown",
      "metadata": {
        "id": "9fQuhLRwf0sf",
        "colab_type": "text"
      },
      "source": [
        "#### 2. Aplicar la búsqueda en profundidad al problema de las torres de Hanoi de 2 discos anteriormente implementado. Use la búsqueda detallada para entender como funciona"
      ]
    },
    {
      "cell_type": "code",
      "metadata": {
        "id": "dYm0WZzJkT5z",
        "colab_type": "code",
        "outputId": "2e353973-20b4-4a12-8090-0ffc6970a468",
        "colab": {
          "base_uri": "https://localhost:8080/",
          "height": 156
        }
      },
      "source": [
        "# instanciar una BusquedaEnProfundidad detallada\n",
        "b_profundidad = BúsquedaEnProfundidad(True)\n",
        "solucion_profundidad_hanoi_2 = b_profundidad.buscar(Torres_Hanoi_2_discos)\n",
        "print(solucion_profundidad_hanoi_2)"
      ],
      "execution_count": 0,
      "outputs": [
        {
          "output_type": "stream",
          "text": [
            "Nodo: Estado: [{1, 2}, set(), set()]; Prof: 0\n",
            "  Nodo: Estado: [{2}, set(), {1}]; Prof: 1\n",
            "    Nodo: Estado: [set(), {2}, {1}]; Prof: 2\n",
            "      Nodo: Estado: [set(), {1, 2}, set()]; Prof: 3\n",
            "      Nodo: Estado: [{1}, {2}, set()]; Prof: 3\n",
            "        Nodo: Estado: [{1}, set(), {2}]; Prof: 4\n",
            "          Nodo: Estado: [set(), set(), {1, 2}]; Prof: 5\n",
            "['De 1 a 3', 'De 1 a 2', 'De 3 a 1', 'De 2 a 3', 'De 1 a 3']\n"
          ],
          "name": "stdout"
        }
      ]
    },
    {
      "cell_type": "markdown",
      "metadata": {
        "id": "VqDe4xzjkT57",
        "colab_type": "text"
      },
      "source": [
        "Podemos parametrizar la implementación del rompecabezas de las Torres de Hanoi para que dependa del número `n` de discos. Para ello basta implementar una clase que herede de la clase `ProblemaEspacioEstados`. Aprovechamos también para, en lugar de enumerar los estados finales, realizar una descripción declarativa de los mismos redefiniendo el método `es_estado_final`."
      ]
    },
    {
      "cell_type": "code",
      "metadata": {
        "id": "q8yE6AzqkT58",
        "colab_type": "code",
        "colab": {}
      },
      "source": [
        "class TorresHanoi(ProblemaEspacioEstados):\n",
        "    def __init__(self, n):\n",
        "        acciones = [MoverDisco(i, j) for i in range(1, 4) for j in range(1, 4) if i != j]\n",
        "        estado_inicial = [set(range(1, n + 1)), set(), set()]\n",
        "        super().__init__(acciones, estado_inicial)\n",
        "        self.n = n\n",
        "    def es_estado_final(self, estado):\n",
        "        return estado[2] == set(range(1, self.n + 1))"
      ],
      "execution_count": 0,
      "outputs": []
    },
    {
      "cell_type": "markdown",
      "metadata": {
        "id": "w2fW-ECXkT5_",
        "colab_type": "text"
      },
      "source": [
        "#### 3. Cuál es el tiempo que le toma a las búsquedas en anchura y optima ejecutar la búsqueda para el problema de las Torres de Hanoi con 8 discos ?\n"
      ]
    },
    {
      "cell_type": "code",
      "metadata": {
        "id": "BkepIDtyhgOe",
        "colab_type": "code",
        "colab": {}
      },
      "source": [
        "# Prevenir excepciones por exceso de stack al realizar llamadas recursivas\n",
        "import sys\n",
        "sys.setrecursionlimit(10000)\n",
        "\n",
        "import time\n",
        "# Instanciar un problema TorresHanoi con 8 discos\n",
        "Torres_Hanoi_8_discos = TorresHanoi(8)\n",
        "# Instanciar una BusquedaEnAnchura NO detallada\n",
        "b_anchura = BúsquedaEnAnchura()\n",
        "# Instanciar una BusquedaOptima NO detallada\n",
        "b_optima = BúsquedaÓptima()"
      ],
      "execution_count": 0,
      "outputs": []
    },
    {
      "cell_type": "code",
      "metadata": {
        "id": "6nsLx00vkT6A",
        "colab_type": "code",
        "outputId": "aeb6ce73-9d09-4259-8aa2-5332a3bd9dd2",
        "colab": {
          "base_uri": "https://localhost:8080/",
          "height": 34
        }
      },
      "source": [
        "# inicia contador de tiempo\n",
        "tic = time.time()\n",
        "# usar la busqueda en anchura para buscar la solucion del problema\n",
        "b_anchura.buscar(Torres_Hanoi_8_discos)\n",
        "# contador de finalización\n",
        "toc = time.time()\n",
        "# tiempo total\n",
        "tiempo_total_anchura = toc-tic\n",
        "print('Tiempo total de la búsqueda en anchura fue {} segundos'.format(tiempo_total_anchura))"
      ],
      "execution_count": 0,
      "outputs": [
        {
          "output_type": "stream",
          "text": [
            "Tiempo total de la búsqueda en anchura fue 8.549259424209595 segundos\n"
          ],
          "name": "stdout"
        }
      ]
    },
    {
      "cell_type": "code",
      "metadata": {
        "id": "-4XL7j9WzRAa",
        "colab_type": "code",
        "outputId": "ab97cebd-6f06-45b9-ab75-bd4d76932bfd",
        "colab": {
          "base_uri": "https://localhost:8080/",
          "height": 34
        }
      },
      "source": [
        "tic = time.time()\n",
        "# usar la búsqueda optima para buscar la solucion del problema\n",
        "b_optima.buscar(Torres_Hanoi_8_discos)\n",
        "toc = time.time()\n",
        "total_tiempo_optima = toc - tic\n",
        "print('Tiempo total de la búsqueda optima fue {} segundos'.format(total_tiempo_optima))"
      ],
      "execution_count": 0,
      "outputs": [
        {
          "output_type": "stream",
          "text": [
            "Tiempo total de la búsqueda optima fue 7.69922947883606 segundos\n"
          ],
          "name": "stdout"
        }
      ]
    },
    {
      "cell_type": "markdown",
      "metadata": {
        "id": "3j9FT11qkT6G",
        "colab_type": "text"
      },
      "source": [
        "Con un número de discos igual a 8, el coste en tiempo de los algoritmos de búsqueda en anchura y profundidad comienza a no ser asumible, por lo que debemos pasar a realizar una búsqueda informada.\n",
        "\n",
        "\n",
        "Para poder aplicar la búsqueda $A^*$, es un requisito necesario definir una función que para cada nodo estime el coste de una solución óptima desde el estado de ese nodo (que en nuestra implementación está guardado en el atributo `estado` de la clase que implementa a estos últimos).\n",
        "\n",
        "Vemos un ejemplo de una implementación de heurística"
      ]
    },
    {
      "cell_type": "code",
      "metadata": {
        "id": "vRPORbg6kT6H",
        "colab_type": "code",
        "colab": {}
      },
      "source": [
        "def h(nodo):\n",
        "    estado = nodo.estado\n",
        "    return len(estado[0]) + len(estado[1])"
      ],
      "execution_count": 0,
      "outputs": []
    },
    {
      "cell_type": "markdown",
      "metadata": {
        "id": "PwOn-pX-kT6K",
        "colab_type": "text"
      },
      "source": [
        "#### 4. ¿Como está definida la heurística `h` del bloque de código anterior?"
      ]
    },
    {
      "cell_type": "code",
      "metadata": {
        "id": "_uRzgWwvQsCa",
        "colab_type": "code",
        "outputId": "86ff485e-9990-468f-b6cd-d2b2a14234d1",
        "colab": {
          "base_uri": "https://localhost:8080/",
          "height": 121
        }
      },
      "source": [
        "h_hanoi_respuesta = 'Definida como la cantidad de discos mal posicionados, que no se encuentran en la última varilla'\n",
        "\n",
        "# AGREGADO\n",
        "class MockNodo:\n",
        "  def __init__(self, estado): self.estado = estado\n",
        "n1 = MockNodo([{1,2}, set(), set()])\n",
        "n2 = MockNodo([{1}, {2}, set()])\n",
        "n3 = MockNodo([{2}, {1}, set()])\n",
        "n4 = MockNodo([set(), {1}, {2}])\n",
        "n5 = MockNodo([{2}, set(), {1}])\n",
        "n5 = MockNodo([{1,2}, {3,4}, {5,6,7,8}])\n",
        "h_hanoi_respuesta, h(n1), h(n2), h(n3), h(n4), h(n5)"
      ],
      "execution_count": 0,
      "outputs": [
        {
          "output_type": "execute_result",
          "data": {
            "text/plain": [
              "('Definida como la cantidad de discos mal posicionados, que no se encuentran en la última varilla',\n",
              " 2,\n",
              " 2,\n",
              " 2,\n",
              " 1,\n",
              " 4)"
            ]
          },
          "metadata": {
            "tags": []
          },
          "execution_count": 59
        }
      ]
    },
    {
      "cell_type": "markdown",
      "metadata": {
        "id": "52vHoAr_2xZg",
        "colab_type": "text"
      },
      "source": [
        "#### 5. ¿ Cuánto tarda una búsqueda A* con la heurística anterior para el mismo problema ?"
      ]
    },
    {
      "cell_type": "code",
      "metadata": {
        "id": "uyfJcoDukT6P",
        "colab_type": "code",
        "outputId": "8aa57764-7188-476f-8725-159c27ee619c",
        "colab": {
          "base_uri": "https://localhost:8080/",
          "height": 34
        }
      },
      "source": [
        "# Instancie una BusquedaAEstrella NO detallada\n",
        "b_a_estrella = BúsquedaAEstrella(h)\n",
        "tic = time.time()\n",
        "b_a_estrella.buscar(Torres_Hanoi_8_discos)\n",
        "toc = time.time()\n",
        "tiempo_total_a_estrella = toc - tic\n",
        "print('Tiempo total de la búsqueda A* fue {} segundos'.format(tiempo_total_a_estrella))"
      ],
      "execution_count": 0,
      "outputs": [
        {
          "output_type": "stream",
          "text": [
            "Tiempo total de la búsqueda A* fue 8.25515079498291 segundos\n"
          ],
          "name": "stdout"
        }
      ]
    },
    {
      "cell_type": "markdown",
      "metadata": {
        "id": "2iNwF0uVrvI1",
        "colab_type": "text"
      },
      "source": [
        "# PARTE III. Estadísticas"
      ]
    },
    {
      "cell_type": "markdown",
      "metadata": {
        "id": "FnepMhFIrwPC",
        "colab_type": "text"
      },
      "source": [
        "La siguientes definiciones nos van a permitir experimentar con distintos estados iniciales, algoritmos y heurísticas, para resolver el 8-puzzle. \n",
        "\n",
        "Además se van a contar el número de nodos analizados durante la búsqueda:\n"
      ]
    },
    {
      "cell_type": "code",
      "metadata": {
        "id": "cLhb5uzDsAFj",
        "colab_type": "code",
        "colab": {}
      },
      "source": [
        "class Problema_con_Analizados(Problema):\n",
        "    \"\"\"Es un problema que se comporta exactamente igual que el que recibe al\n",
        "       inicializarse, y además incorpora unos atributos nuevos para almacenar el\n",
        "       número de nodos analizados durante la búsqueda. De esta manera, no\n",
        "       tenemos que modificar el código del algoritmo de búsqueda.\"\"\"          \n",
        "    def __init__(self, problema):\n",
        "        self.estado_inicial = problema.estado_inicial\n",
        "        self.problema = problema\n",
        "        self.analizados  = 0\n",
        "    \n",
        "    def acciones_aplicables(self, estado): return self.problema.acciones_aplicables(estado)\n",
        "    \n",
        "    def aplica(self, estado, accion): return self.problema.aplica(estado, accion)\n",
        "    \n",
        "    def es_estado_final(self, estado):\n",
        "        self.analizados += 1\n",
        "        return self.problema.es_estado_final(estado)\n",
        "    \n",
        "    def coste_de_aplicar_accion(self, estado, accion):\n",
        "        return self.problema.coste_de_aplicar_accion(estado,accion)\n",
        "\n",
        "\n"
      ],
      "execution_count": 0,
      "outputs": []
    },
    {
      "cell_type": "code",
      "metadata": {
        "id": "7Exo56Bm55yq",
        "colab_type": "code",
        "colab": {}
      },
      "source": [
        "\n",
        "class MoverHueco(Acción):\n",
        "  \n",
        "    def __init__(self, direccion):\n",
        "        nombre = 'Mover hueco a {}'.format(direccion)\n",
        "        super().__init__(nombre)\n",
        "        self.direccion = direccion\n",
        "\n",
        "    def es_aplicable(self, estado):\n",
        "        pos_hueco=estado.index(0)\n",
        "        if (pos_hueco not in (0,1,2)) and (self.direccion == 'arriba') :\n",
        "            return True\n",
        "        elif (pos_hueco not in (0,3,6)) and (self.direccion == 'izquierda'): \n",
        "            return True\n",
        "        elif (pos_hueco not in (6,7,8)) and (self.direccion == 'abajo'):\n",
        "            return True\n",
        "        elif (pos_hueco not in (2,5,8)) and (self.direccion == 'derecha'):\n",
        "            return True\n",
        "        else:\n",
        "            return False\n",
        "        \n",
        "\n",
        "    def aplicar(self, estado):\n",
        "        pos_hueco = estado.index(0)\n",
        "        l = list(estado)\n",
        "        if self.direccion == \"arriba\":\n",
        "            l[pos_hueco] = l[pos_hueco-3]\n",
        "            l[pos_hueco-3] = 0\n",
        "        if self.direccion == \"abajo\":\n",
        "            l[pos_hueco] = l[pos_hueco+3]\n",
        "            l[pos_hueco+3] = 0\n",
        "        if self.direccion == \"derecha\":\n",
        "            l[pos_hueco] = l[pos_hueco+1]\n",
        "            l[pos_hueco+1] = 0\n",
        "        if self.direccion == \"izquierda\":\n",
        "            l[pos_hueco] = l[pos_hueco-1]\n",
        "            l[pos_hueco-1] = 0\n",
        "        return tuple(l)    "
      ],
      "execution_count": 0,
      "outputs": []
    },
    {
      "cell_type": "code",
      "metadata": {
        "id": "6cFr89GA8RWZ",
        "colab_type": "code",
        "colab": {}
      },
      "source": [
        "class OchoPuzzleEstados(ProblemaEspacioEstados):\n",
        "    def __init__(self, estado_inicial):\n",
        "        acciones = [MoverHueco(direccion) for direccion in ['arriba','abajo','izquierda','derecha']]\n",
        "        super().__init__(acciones, estado_inicial)\n",
        "            \n",
        "    def es_estado_final(self, estado):\n",
        "        return estado == (1, 2, 3, 8, 0, 4, 7, 6, 5)"
      ],
      "execution_count": 0,
      "outputs": []
    },
    {
      "cell_type": "code",
      "metadata": {
        "id": "MaNVWZfM7Q7f",
        "colab_type": "code",
        "colab": {}
      },
      "source": [
        "def resuelve_ocho_puzzle(estado_inicial, algoritmo, h=None):\n",
        "    \"\"\"Función para aplicar un algoritmo de búsqueda dado al problema del ocho puzzle, \n",
        "        con un estado inicial dado y (cuando el algoritmo lo necesite)  una heurística dada.\n",
        "       Ejemplo de uso:\n",
        "       >>> resuelve_ocho_puzzle((2, 8, 3, 1, 6, 4, 7, 0, 5),búsqueda_a_estrella,h2_ocho_puzzle)\n",
        "       Solución: ['Mover hueco arriba', 'Mover hueco arriba', 'Mover hueco izquierda', \n",
        "                  'Mover hueco abajo', 'Mover hueco derecha']\n",
        "       Algoritmo: búsqueda_a_estrella\n",
        "       Heurística: h2_ocho_puzzle\n",
        "       Longitud de la solución: 5. Nodos analizados: 7\n",
        "       \"\"\"\n",
        "    p8p=Problema_con_Analizados(OchoPuzzleEstados(estado_inicial))\n",
        "    tic = time.time()\n",
        "    \n",
        "    sol = (algoritmo(h).buscar(p8p) if h else algoritmo().buscar(p8p)) \n",
        "\n",
        "    # En caso de aplicar cota y que no encuentre la solución\n",
        "    if sol is None:\n",
        "      sol = ['No se encontró']\n",
        "\n",
        "    toc = time.time()\n",
        "    tiempo = toc - tic\n",
        "    print(\"[ {0} ]\".format(algoritmo.__name__))\n",
        "    print(\"Solución: {0}\".format(sol))\n",
        "    if h:  print(\"Heurística: {0}\".format(h.__name__))\n",
        "    else:\n",
        "        pass\n",
        "    print(\"Longitud de la solución: {0}. Nodos analizados: {1}, Tiempo de búsqueda: {2}\".format(len(sol),p8p.analizados,tiempo))\n",
        "    return {'longitud' : len(sol),'analizados' : p8p.analizados,'tiempo' : tiempo,'solucion':sol}"
      ],
      "execution_count": 0,
      "outputs": []
    },
    {
      "cell_type": "markdown",
      "metadata": {
        "id": "ajMnQX5f9btn",
        "colab_type": "text"
      },
      "source": [
        "---\n",
        "### **Ejercicio 5**\n",
        "\n",
        "Definir las siguientes funciones heurísticas para el 8 puzzle.\n",
        "* `h1_ocho_puzzle(estado)`: cuenta el número de casillas mal colocadas respecto del estado final.\n",
        "* `h2_ocho_puzzle_estado(estado)`: suma la distancia Manhattan desde cada casilla a la posición en la que debería estar en el estado final.\n",
        "\n",
        "Ejemplos de resultados esperados:\n",
        "\n",
        "```\n",
        ">>> h1_ocho_puzzle((2, 8, 3, 1, 6, 4, 7, 0, 5))\n",
        "4\n",
        ">>> h2_ocho_puzzle((2, 8, 3, 1, 6, 4, 7, 0, 5))\n",
        "5\n",
        ">>> h1_ocho_puzzle((5,2,3,0,4,8,7,6,1))\n",
        "4\n",
        ">>> h2_ocho_puzzle((5,2,3,0,4,8,7,6,1))\n",
        "11\n",
        "```"
      ]
    },
    {
      "cell_type": "code",
      "metadata": {
        "id": "mxao3ZhF_GrA",
        "colab_type": "code",
        "colab": {}
      },
      "source": [
        "def h1_ocho_puzzle(nodo):\n",
        "  estado = nodo.estado\n",
        "  estado_final = (1, 2, 3, 8, 0, 4, 7, 6, 5)\n",
        "  h = 8 # Comienza suponiendo que todas están mal colocadas, para restar 1 cuando se encuentre alguna bien colocada\n",
        "  # Implementar suma del número de casillas mal colocadas respecto del estado final\n",
        "  i = 0\n",
        "  for c in estado_final:\n",
        "    if c == 0: # Ignorar hueco\n",
        "      i += 1\n",
        "      continue\n",
        "\n",
        "    if c == estado[i]:\n",
        "      h -= 1\n",
        "\n",
        "    i += 1\n",
        "\n",
        "  return h\n",
        "\n",
        "# Aserciones de resultados esperados\n",
        "class MockNode:\n",
        "  def __init__(self, estado): self.estado = estado\n",
        "h1 = h1_ocho_puzzle(MockNode((2, 8, 3, 1, 6, 4, 7, 0, 5)))\n",
        "h2 = h1_ocho_puzzle(MockNode((5, 2, 3, 0, 4, 8, 7, 6, 1)))\n",
        "h3 = h1_ocho_puzzle(MockNode((1, 2, 3, 8, 0, 4, 7, 6, 5))) # Estado final\n",
        "h4 = h1_ocho_puzzle(MockNode((1, 2, 3, 4, 0, 8, 7, 6, 5)))\n",
        "h5 = h1_ocho_puzzle(MockNode((1, 2, 3, 8, 4, 0, 7, 6, 5))) # Hueco no cuenta\n",
        "assert h1 == 4, h1\n",
        "assert h2 == 4, h2\n",
        "assert h3 == 0, h3 # Estado final\n",
        "assert h4 == 2, h4\n",
        "assert h5 == 1, h5 # 0 no debería influir"
      ],
      "execution_count": 0,
      "outputs": []
    },
    {
      "cell_type": "code",
      "metadata": {
        "id": "j8wMJFOA90Sk",
        "colab_type": "code",
        "colab": {}
      },
      "source": [
        "def dist(point1, point2):\n",
        "  x1, y1 = point1\n",
        "  x2, y2 = point2\n",
        "  return abs(x2 - x1) + abs(y2 - y1)\n",
        "\n",
        "assert dist((1, 1), (2, 2)) == 2\n",
        "\n",
        "def h2_ocho_puzzle(nodo):\n",
        "  estado = nodo.estado\n",
        "  estado_final = (1, 2, 3, 8, 0, 4, 7, 6, 5)\n",
        "  h = 0\n",
        "  # implementar suma de la distancia Manhattan desde cada casilla a la posición en la que debería estar en el estado final\n",
        "  i1 = 0\n",
        "  for c in estado_final:\n",
        "    if c == 0:\n",
        "      i1 += 1\n",
        "      continue\n",
        "\n",
        "    point2 = i1 % 3, int(i1 /3)\n",
        "    i2 = estado.index(c)\n",
        "    point1 = i2 % 3, int(i2 / 3)\n",
        "    d = dist(point1, point2)\n",
        "    if d != 0:\n",
        "      h += d\n",
        "\n",
        "    i1 += 1\n",
        "\n",
        "  return h\n",
        "\n",
        "# Tests\n",
        "class MockNode:\n",
        "  def __init__(self, estado): self.estado = estado\n",
        "h1 = h2_ocho_puzzle(MockNode((2, 8, 3, 1, 6, 4, 7, 0, 5)))\n",
        "h2 = h2_ocho_puzzle(MockNode((5, 2, 3, 0, 4, 8, 7, 6, 1)))\n",
        "h3 = h2_ocho_puzzle(MockNode((1, 2, 3, 8, 0, 4, 7, 6, 5))) # Estado final\n",
        "h4 = h2_ocho_puzzle(MockNode((3, 2, 1, 8, 0, 4, 7, 6, 5)))\n",
        "h5 = h2_ocho_puzzle(MockNode((3, 2, 5, 8, 0, 4, 7, 1, 6))) # 2 + 2 + 3 + 1 = 8\n",
        "assert h1 == 5, h1\n",
        "assert h2 == 11, h2\n",
        "assert h3 == 0, h3\n",
        "assert h4 == 4, h4\n",
        "assert h5 == 8, h5"
      ],
      "execution_count": 0,
      "outputs": []
    },
    {
      "cell_type": "markdown",
      "metadata": {
        "id": "4p2a5yb6sBBb",
        "colab_type": "text"
      },
      "source": [
        "---\n",
        "## **Ejercicio 6**\n",
        "\n",
        "Intentar resolver usando las distintas búsquedas y en su caso, las distintas heurísticas, el **problema del 8 puzzle** para los siguientes estados iniciales:\n",
        "\n",
        "```\n",
        "#           E1              E2              E3              E4\n",
        "#           \n",
        "#     +---+---+---+   +---+---+---+   +---+---+---+   +---+---+---+    \n",
        "#     | 2 | 8 | 3 |   | 4 | 8 | 1 |   | 2 | 1 | 6 |   | 5 | 2 | 3 |\n",
        "#     +---+---+---+   +---+---+---+   +---+---+---+   +---+---+---+\n",
        "#     | 1 | 6 | 4 |   | 3 | H | 2 |   | 4 | H | 8 |   | H | 4 | 8 |\n",
        "#     +---+---+---+   +---+---+---+   +---+---+---+   +---+---+---+\n",
        "#     | 7 | H | 5 |   | 7 | 6 | 5 |   | 7 | 5 | 3 |   | 7 | 6 | 1 |\n",
        "#     +---+---+---+   +---+---+---+   +---+---+---+   +---+---+---+\n",
        "```\n"
      ]
    },
    {
      "cell_type": "markdown",
      "metadata": {
        "id": "wM3A-GL1BVu0",
        "colab_type": "text"
      },
      "source": [
        "#### 1. Complete el bloque a continuación para generar cada uno de los estados inciales requeridos que luego usará en los experimentos"
      ]
    },
    {
      "cell_type": "code",
      "metadata": {
        "id": "NC3Af_lz3OcK",
        "colab_type": "code",
        "colab": {}
      },
      "source": [
        "e1_8puzzle = (2, 8, 3, 1, 6, 4, 7, 0, 5)\n",
        "e2_8puzzle = (4, 8, 1, 3, 0, 2, 7, 6, 5)\n",
        "e3_8puzzle = (2, 1, 6, 4, 0, 8, 7, 5, 3)\n",
        "e4_8puzzle = (5, 2, 3, 0, 4, 8, 7, 6, 1)"
      ],
      "execution_count": 0,
      "outputs": []
    },
    {
      "cell_type": "markdown",
      "metadata": {
        "id": "5-BJEIEd3O00",
        "colab_type": "text"
      },
      "source": [
        "Se pide, en cada caso, hacerlo con la función resuelve_ocho_puzzle, para obtener, además de la solución, la longitud (el coste) de la solución obtenida, el número de nodos analizados y el tiempo requerido.\n",
        "\n",
        "#### 2. **Complete el codigo** del siguiente bloque que ejecuta iterativamente todas las combinaciones  de búsquedas solicitadas en el experimento\n"
      ]
    },
    {
      "cell_type": "code",
      "metadata": {
        "id": "RaRdT27T7ulT",
        "colab_type": "code",
        "outputId": "610da63c-7861-4b07-d4b9-d3c7e4989b93",
        "colab": {
          "base_uri": "https://localhost:8080/",
          "height": 1000
        }
      },
      "source": [
        "# listas vacias que se llenaran con el avance del algoritmo\n",
        "resultados_e1 = []\n",
        "resultados_e2 = []\n",
        "resultados_e3 = []\n",
        "resultados_e4 = []\n",
        "metodos = []\n",
        "\n",
        "# Wrapper para definir cota a BúsquedaEnProfundidad en caso de que no encuentre la solución\n",
        "def con_cota(algoritmo, cota):\n",
        "    def BúsquedaEnProfundidadConCota():\n",
        "      return algoritmo(cota) # Definido más arriba\n",
        "    return BúsquedaEnProfundidadConCota\n",
        "\n",
        "# Se cambia BúsquedaEnProfundidad por BúsquedaEnProfundidadAcotada\n",
        "for busqueda_ciega in [BúsquedaEnAnchura, con_cota(BúsquedaEnProfundidadAcotada, 1000)]: \n",
        "    metodos.append(str(busqueda_ciega))\n",
        "    resultados_e1.append(resuelve_ocho_puzzle(e1_8puzzle, busqueda_ciega))\n",
        "    resultados_e2.append(resuelve_ocho_puzzle(e2_8puzzle,busqueda_ciega))\n",
        "    resultados_e3.append(resuelve_ocho_puzzle(e3_8puzzle,busqueda_ciega))\n",
        "    # resultados_e4.append(resuelve_ocho_puzzle(e4_8puzzle,busqueda_ciega))\n",
        "\n",
        "\n",
        "for busqueda_informada in [BúsquedaPrimeroElMejor,BúsquedaAEstrella]:\n",
        "    for heuristica in [h1_ocho_puzzle, h2_ocho_puzzle]:  \n",
        "        metodos.append(str(busqueda_informada)+str(heuristica))\n",
        "        resultados_e1.append(resuelve_ocho_puzzle(e1_8puzzle,busqueda_informada,heuristica))\n",
        "        resultados_e2.append(resuelve_ocho_puzzle(e2_8puzzle,busqueda_informada,heuristica))\n",
        "        resultados_e3.append(resuelve_ocho_puzzle(e3_8puzzle,busqueda_informada,heuristica))\n",
        "        # resultados_e4.append(resuelve_ocho_puzzle(e4_8puzzle,busqueda_informada,heuristica))\n"
      ],
      "execution_count": 0,
      "outputs": [
        {
          "output_type": "stream",
          "text": [
            "[ BúsquedaEnAnchura ]\n",
            "Solución: ['Mover hueco a arriba', 'Mover hueco a arriba', 'Mover hueco a izquierda', 'Mover hueco a abajo', 'Mover hueco a derecha']\n",
            "Longitud de la solución: 5. Nodos analizados: 35, Tiempo de búsqueda: 0.003117084503173828\n",
            "[ BúsquedaEnAnchura ]\n",
            "Solución: ['Mover hueco a izquierda', 'Mover hueco a arriba', 'Mover hueco a derecha', 'Mover hueco a derecha', 'Mover hueco a abajo', 'Mover hueco a izquierda', 'Mover hueco a izquierda', 'Mover hueco a arriba', 'Mover hueco a derecha', 'Mover hueco a derecha', 'Mover hueco a abajo', 'Mover hueco a izquierda']\n",
            "Longitud de la solución: 12. Nodos analizados: 2032, Tiempo de búsqueda: 1.0141735076904297\n",
            "[ BúsquedaEnAnchura ]\n",
            "Solución: ['Mover hueco a arriba', 'Mover hueco a izquierda', 'Mover hueco a abajo', 'Mover hueco a derecha', 'Mover hueco a derecha', 'Mover hueco a arriba', 'Mover hueco a izquierda', 'Mover hueco a izquierda', 'Mover hueco a abajo', 'Mover hueco a derecha', 'Mover hueco a derecha', 'Mover hueco a abajo', 'Mover hueco a izquierda', 'Mover hueco a arriba', 'Mover hueco a arriba', 'Mover hueco a derecha', 'Mover hueco a abajo', 'Mover hueco a izquierda']\n",
            "Longitud de la solución: 18. Nodos analizados: 22912, Tiempo de búsqueda: 134.5662922859192\n",
            "[ BúsquedaEnProfundidadConCota ]\n",
            "Solución: ['Mover hueco a derecha', 'Mover hueco a arriba', 'Mover hueco a izquierda', 'Mover hueco a izquierda', 'Mover hueco a abajo', 'Mover hueco a derecha', 'Mover hueco a derecha', 'Mover hueco a arriba', 'Mover hueco a izquierda', 'Mover hueco a izquierda', 'Mover hueco a abajo', 'Mover hueco a derecha', 'Mover hueco a derecha', 'Mover hueco a arriba', 'Mover hueco a izquierda', 'Mover hueco a izquierda', 'Mover hueco a abajo', 'Mover hueco a derecha', 'Mover hueco a derecha', 'Mover hueco a arriba', 'Mover hueco a izquierda', 'Mover hueco a izquierda', 'Mover hueco a abajo', 'Mover hueco a derecha', 'Mover hueco a derecha', 'Mover hueco a arriba', 'Mover hueco a izquierda', 'Mover hueco a izquierda', 'Mover hueco a arriba', 'Mover hueco a derecha', 'Mover hueco a derecha', 'Mover hueco a abajo', 'Mover hueco a izquierda', 'Mover hueco a izquierda', 'Mover hueco a abajo', 'Mover hueco a derecha', 'Mover hueco a derecha', 'Mover hueco a arriba', 'Mover hueco a izquierda', 'Mover hueco a izquierda', 'Mover hueco a abajo', 'Mover hueco a derecha', 'Mover hueco a derecha', 'Mover hueco a arriba', 'Mover hueco a izquierda', 'Mover hueco a izquierda', 'Mover hueco a abajo', 'Mover hueco a derecha', 'Mover hueco a derecha', 'Mover hueco a arriba', 'Mover hueco a izquierda', 'Mover hueco a izquierda', 'Mover hueco a abajo', 'Mover hueco a derecha', 'Mover hueco a derecha', 'Mover hueco a arriba', 'Mover hueco a izquierda', 'Mover hueco a izquierda', 'Mover hueco a abajo', 'Mover hueco a derecha', 'Mover hueco a arriba', 'Mover hueco a derecha', 'Mover hueco a abajo', 'Mover hueco a izquierda', 'Mover hueco a izquierda', 'Mover hueco a arriba', 'Mover hueco a derecha', 'Mover hueco a derecha', 'Mover hueco a abajo', 'Mover hueco a izquierda', 'Mover hueco a izquierda', 'Mover hueco a arriba', 'Mover hueco a derecha', 'Mover hueco a derecha', 'Mover hueco a arriba', 'Mover hueco a izquierda', 'Mover hueco a izquierda', 'Mover hueco a abajo', 'Mover hueco a derecha', 'Mover hueco a derecha', 'Mover hueco a abajo', 'Mover hueco a izquierda', 'Mover hueco a izquierda', 'Mover hueco a arriba', 'Mover hueco a derecha', 'Mover hueco a derecha', 'Mover hueco a abajo', 'Mover hueco a izquierda', 'Mover hueco a izquierda', 'Mover hueco a arriba', 'Mover hueco a derecha', 'Mover hueco a derecha', 'Mover hueco a abajo', 'Mover hueco a izquierda', 'Mover hueco a izquierda', 'Mover hueco a arriba', 'Mover hueco a derecha', 'Mover hueco a derecha', 'Mover hueco a abajo', 'Mover hueco a izquierda', 'Mover hueco a izquierda', 'Mover hueco a arriba', 'Mover hueco a derecha', 'Mover hueco a derecha', 'Mover hueco a abajo', 'Mover hueco a izquierda', 'Mover hueco a arriba', 'Mover hueco a derecha', 'Mover hueco a abajo', 'Mover hueco a izquierda', 'Mover hueco a izquierda', 'Mover hueco a arriba', 'Mover hueco a derecha', 'Mover hueco a derecha', 'Mover hueco a abajo', 'Mover hueco a izquierda', 'Mover hueco a izquierda', 'Mover hueco a arriba', 'Mover hueco a derecha', 'Mover hueco a derecha', 'Mover hueco a arriba', 'Mover hueco a izquierda', 'Mover hueco a izquierda', 'Mover hueco a abajo', 'Mover hueco a derecha', 'Mover hueco a derecha', 'Mover hueco a abajo', 'Mover hueco a izquierda', 'Mover hueco a izquierda', 'Mover hueco a arriba', 'Mover hueco a derecha', 'Mover hueco a derecha', 'Mover hueco a abajo', 'Mover hueco a izquierda', 'Mover hueco a izquierda', 'Mover hueco a arriba', 'Mover hueco a derecha', 'Mover hueco a derecha', 'Mover hueco a abajo', 'Mover hueco a izquierda', 'Mover hueco a izquierda', 'Mover hueco a arriba', 'Mover hueco a derecha', 'Mover hueco a derecha', 'Mover hueco a abajo', 'Mover hueco a izquierda', 'Mover hueco a izquierda', 'Mover hueco a arriba', 'Mover hueco a derecha', 'Mover hueco a derecha', 'Mover hueco a abajo', 'Mover hueco a izquierda', 'Mover hueco a arriba', 'Mover hueco a derecha', 'Mover hueco a abajo', 'Mover hueco a izquierda', 'Mover hueco a izquierda', 'Mover hueco a arriba', 'Mover hueco a derecha', 'Mover hueco a derecha', 'Mover hueco a abajo', 'Mover hueco a izquierda', 'Mover hueco a izquierda', 'Mover hueco a arriba', 'Mover hueco a derecha', 'Mover hueco a derecha', 'Mover hueco a arriba', 'Mover hueco a izquierda', 'Mover hueco a izquierda', 'Mover hueco a abajo', 'Mover hueco a derecha', 'Mover hueco a derecha', 'Mover hueco a abajo', 'Mover hueco a izquierda', 'Mover hueco a izquierda', 'Mover hueco a arriba', 'Mover hueco a derecha', 'Mover hueco a derecha', 'Mover hueco a abajo', 'Mover hueco a izquierda', 'Mover hueco a izquierda', 'Mover hueco a arriba', 'Mover hueco a derecha', 'Mover hueco a derecha', 'Mover hueco a abajo', 'Mover hueco a izquierda', 'Mover hueco a izquierda', 'Mover hueco a arriba', 'Mover hueco a derecha', 'Mover hueco a derecha', 'Mover hueco a abajo', 'Mover hueco a izquierda', 'Mover hueco a izquierda', 'Mover hueco a arriba', 'Mover hueco a derecha', 'Mover hueco a derecha', 'Mover hueco a abajo', 'Mover hueco a izquierda', 'Mover hueco a arriba', 'Mover hueco a derecha', 'Mover hueco a abajo', 'Mover hueco a izquierda', 'Mover hueco a izquierda', 'Mover hueco a arriba', 'Mover hueco a derecha', 'Mover hueco a derecha', 'Mover hueco a abajo', 'Mover hueco a izquierda', 'Mover hueco a izquierda', 'Mover hueco a arriba', 'Mover hueco a derecha', 'Mover hueco a derecha', 'Mover hueco a arriba', 'Mover hueco a izquierda', 'Mover hueco a izquierda', 'Mover hueco a abajo', 'Mover hueco a derecha', 'Mover hueco a derecha', 'Mover hueco a abajo', 'Mover hueco a izquierda', 'Mover hueco a izquierda', 'Mover hueco a arriba', 'Mover hueco a derecha', 'Mover hueco a derecha', 'Mover hueco a abajo', 'Mover hueco a izquierda', 'Mover hueco a izquierda', 'Mover hueco a arriba', 'Mover hueco a derecha', 'Mover hueco a derecha', 'Mover hueco a abajo', 'Mover hueco a izquierda', 'Mover hueco a izquierda', 'Mover hueco a arriba', 'Mover hueco a derecha', 'Mover hueco a derecha', 'Mover hueco a abajo', 'Mover hueco a izquierda', 'Mover hueco a izquierda', 'Mover hueco a arriba', 'Mover hueco a derecha', 'Mover hueco a derecha', 'Mover hueco a abajo', 'Mover hueco a izquierda', 'Mover hueco a arriba', 'Mover hueco a derecha', 'Mover hueco a abajo', 'Mover hueco a izquierda', 'Mover hueco a izquierda', 'Mover hueco a arriba', 'Mover hueco a derecha', 'Mover hueco a derecha', 'Mover hueco a abajo', 'Mover hueco a izquierda', 'Mover hueco a izquierda', 'Mover hueco a arriba', 'Mover hueco a derecha', 'Mover hueco a derecha', 'Mover hueco a arriba', 'Mover hueco a izquierda', 'Mover hueco a izquierda', 'Mover hueco a abajo', 'Mover hueco a derecha', 'Mover hueco a derecha', 'Mover hueco a abajo', 'Mover hueco a izquierda', 'Mover hueco a izquierda', 'Mover hueco a arriba', 'Mover hueco a derecha', 'Mover hueco a derecha', 'Mover hueco a abajo', 'Mover hueco a izquierda', 'Mover hueco a izquierda', 'Mover hueco a arriba', 'Mover hueco a derecha', 'Mover hueco a derecha', 'Mover hueco a abajo', 'Mover hueco a izquierda', 'Mover hueco a izquierda', 'Mover hueco a arriba', 'Mover hueco a derecha', 'Mover hueco a derecha', 'Mover hueco a abajo', 'Mover hueco a izquierda', 'Mover hueco a izquierda', 'Mover hueco a arriba', 'Mover hueco a derecha', 'Mover hueco a derecha', 'Mover hueco a abajo', 'Mover hueco a izquierda', 'Mover hueco a arriba', 'Mover hueco a derecha', 'Mover hueco a abajo', 'Mover hueco a izquierda', 'Mover hueco a izquierda', 'Mover hueco a arriba', 'Mover hueco a derecha', 'Mover hueco a derecha', 'Mover hueco a abajo', 'Mover hueco a izquierda', 'Mover hueco a izquierda', 'Mover hueco a arriba', 'Mover hueco a derecha', 'Mover hueco a derecha', 'Mover hueco a arriba', 'Mover hueco a izquierda', 'Mover hueco a izquierda', 'Mover hueco a abajo', 'Mover hueco a derecha', 'Mover hueco a derecha', 'Mover hueco a abajo', 'Mover hueco a izquierda', 'Mover hueco a izquierda', 'Mover hueco a arriba', 'Mover hueco a derecha', 'Mover hueco a derecha', 'Mover hueco a abajo', 'Mover hueco a izquierda', 'Mover hueco a izquierda', 'Mover hueco a arriba', 'Mover hueco a derecha', 'Mover hueco a derecha', 'Mover hueco a abajo', 'Mover hueco a izquierda', 'Mover hueco a izquierda', 'Mover hueco a arriba', 'Mover hueco a derecha', 'Mover hueco a derecha', 'Mover hueco a abajo', 'Mover hueco a izquierda', 'Mover hueco a izquierda', 'Mover hueco a arriba', 'Mover hueco a derecha', 'Mover hueco a derecha', 'Mover hueco a abajo', 'Mover hueco a izquierda', 'Mover hueco a arriba', 'Mover hueco a derecha', 'Mover hueco a abajo', 'Mover hueco a izquierda', 'Mover hueco a izquierda', 'Mover hueco a arriba', 'Mover hueco a derecha', 'Mover hueco a derecha', 'Mover hueco a abajo', 'Mover hueco a izquierda', 'Mover hueco a izquierda', 'Mover hueco a arriba', 'Mover hueco a derecha', 'Mover hueco a derecha', 'Mover hueco a arriba', 'Mover hueco a izquierda', 'Mover hueco a abajo', 'Mover hueco a derecha', 'Mover hueco a abajo', 'Mover hueco a izquierda', 'Mover hueco a izquierda', 'Mover hueco a arriba', 'Mover hueco a derecha', 'Mover hueco a derecha', 'Mover hueco a abajo', 'Mover hueco a izquierda', 'Mover hueco a izquierda', 'Mover hueco a arriba', 'Mover hueco a derecha', 'Mover hueco a derecha', 'Mover hueco a abajo', 'Mover hueco a izquierda', 'Mover hueco a izquierda', 'Mover hueco a arriba', 'Mover hueco a derecha', 'Mover hueco a derecha', 'Mover hueco a abajo', 'Mover hueco a izquierda', 'Mover hueco a izquierda', 'Mover hueco a arriba', 'Mover hueco a derecha', 'Mover hueco a derecha', 'Mover hueco a abajo', 'Mover hueco a izquierda', 'Mover hueco a arriba', 'Mover hueco a derecha', 'Mover hueco a abajo', 'Mover hueco a izquierda', 'Mover hueco a izquierda', 'Mover hueco a arriba', 'Mover hueco a derecha', 'Mover hueco a derecha', 'Mover hueco a abajo', 'Mover hueco a izquierda', 'Mover hueco a izquierda', 'Mover hueco a arriba', 'Mover hueco a derecha', 'Mover hueco a derecha', 'Mover hueco a arriba', 'Mover hueco a izquierda', 'Mover hueco a izquierda', 'Mover hueco a abajo', 'Mover hueco a derecha', 'Mover hueco a derecha', 'Mover hueco a abajo', 'Mover hueco a izquierda', 'Mover hueco a izquierda', 'Mover hueco a arriba', 'Mover hueco a derecha', 'Mover hueco a derecha', 'Mover hueco a abajo', 'Mover hueco a izquierda', 'Mover hueco a izquierda', 'Mover hueco a arriba', 'Mover hueco a derecha', 'Mover hueco a derecha', 'Mover hueco a abajo', 'Mover hueco a izquierda', 'Mover hueco a izquierda', 'Mover hueco a arriba', 'Mover hueco a derecha', 'Mover hueco a derecha', 'Mover hueco a abajo', 'Mover hueco a izquierda', 'Mover hueco a izquierda', 'Mover hueco a arriba', 'Mover hueco a derecha', 'Mover hueco a derecha', 'Mover hueco a abajo', 'Mover hueco a izquierda', 'Mover hueco a arriba', 'Mover hueco a derecha', 'Mover hueco a abajo', 'Mover hueco a izquierda', 'Mover hueco a izquierda', 'Mover hueco a arriba', 'Mover hueco a derecha', 'Mover hueco a derecha', 'Mover hueco a abajo', 'Mover hueco a izquierda', 'Mover hueco a izquierda', 'Mover hueco a arriba', 'Mover hueco a derecha', 'Mover hueco a abajo', 'Mover hueco a derecha', 'Mover hueco a arriba', 'Mover hueco a arriba', 'Mover hueco a izquierda', 'Mover hueco a izquierda', 'Mover hueco a abajo', 'Mover hueco a derecha', 'Mover hueco a derecha', 'Mover hueco a abajo', 'Mover hueco a izquierda', 'Mover hueco a izquierda', 'Mover hueco a arriba', 'Mover hueco a derecha', 'Mover hueco a derecha', 'Mover hueco a abajo', 'Mover hueco a izquierda', 'Mover hueco a izquierda', 'Mover hueco a arriba', 'Mover hueco a derecha', 'Mover hueco a derecha', 'Mover hueco a abajo', 'Mover hueco a izquierda', 'Mover hueco a izquierda', 'Mover hueco a arriba', 'Mover hueco a derecha', 'Mover hueco a derecha', 'Mover hueco a abajo', 'Mover hueco a izquierda', 'Mover hueco a izquierda', 'Mover hueco a arriba', 'Mover hueco a derecha', 'Mover hueco a derecha', 'Mover hueco a abajo', 'Mover hueco a izquierda', 'Mover hueco a arriba', 'Mover hueco a derecha', 'Mover hueco a abajo', 'Mover hueco a izquierda', 'Mover hueco a izquierda', 'Mover hueco a arriba', 'Mover hueco a derecha', 'Mover hueco a derecha', 'Mover hueco a abajo', 'Mover hueco a izquierda', 'Mover hueco a izquierda', 'Mover hueco a arriba', 'Mover hueco a derecha', 'Mover hueco a derecha', 'Mover hueco a arriba', 'Mover hueco a izquierda', 'Mover hueco a izquierda', 'Mover hueco a abajo', 'Mover hueco a derecha', 'Mover hueco a derecha', 'Mover hueco a abajo', 'Mover hueco a izquierda', 'Mover hueco a izquierda', 'Mover hueco a arriba', 'Mover hueco a derecha', 'Mover hueco a derecha', 'Mover hueco a abajo', 'Mover hueco a izquierda', 'Mover hueco a izquierda', 'Mover hueco a arriba', 'Mover hueco a derecha', 'Mover hueco a derecha', 'Mover hueco a abajo', 'Mover hueco a izquierda', 'Mover hueco a izquierda', 'Mover hueco a arriba', 'Mover hueco a derecha', 'Mover hueco a derecha', 'Mover hueco a abajo', 'Mover hueco a izquierda', 'Mover hueco a izquierda', 'Mover hueco a arriba', 'Mover hueco a derecha', 'Mover hueco a derecha', 'Mover hueco a abajo', 'Mover hueco a izquierda', 'Mover hueco a arriba', 'Mover hueco a derecha', 'Mover hueco a abajo', 'Mover hueco a izquierda', 'Mover hueco a izquierda', 'Mover hueco a arriba', 'Mover hueco a derecha', 'Mover hueco a derecha', 'Mover hueco a abajo', 'Mover hueco a izquierda', 'Mover hueco a izquierda', 'Mover hueco a arriba', 'Mover hueco a derecha', 'Mover hueco a derecha', 'Mover hueco a arriba', 'Mover hueco a izquierda', 'Mover hueco a izquierda', 'Mover hueco a abajo', 'Mover hueco a derecha', 'Mover hueco a derecha', 'Mover hueco a abajo', 'Mover hueco a izquierda', 'Mover hueco a izquierda', 'Mover hueco a arriba', 'Mover hueco a derecha', 'Mover hueco a derecha', 'Mover hueco a abajo', 'Mover hueco a izquierda', 'Mover hueco a izquierda', 'Mover hueco a arriba', 'Mover hueco a derecha', 'Mover hueco a derecha', 'Mover hueco a abajo', 'Mover hueco a izquierda', 'Mover hueco a izquierda', 'Mover hueco a arriba', 'Mover hueco a derecha', 'Mover hueco a derecha', 'Mover hueco a abajo', 'Mover hueco a izquierda', 'Mover hueco a izquierda', 'Mover hueco a arriba', 'Mover hueco a derecha', 'Mover hueco a derecha', 'Mover hueco a abajo', 'Mover hueco a izquierda', 'Mover hueco a arriba', 'Mover hueco a derecha', 'Mover hueco a abajo', 'Mover hueco a izquierda', 'Mover hueco a izquierda', 'Mover hueco a arriba', 'Mover hueco a derecha', 'Mover hueco a derecha', 'Mover hueco a abajo', 'Mover hueco a izquierda', 'Mover hueco a izquierda', 'Mover hueco a arriba', 'Mover hueco a derecha', 'Mover hueco a derecha', 'Mover hueco a arriba', 'Mover hueco a izquierda', 'Mover hueco a izquierda', 'Mover hueco a abajo', 'Mover hueco a derecha', 'Mover hueco a derecha', 'Mover hueco a abajo', 'Mover hueco a izquierda', 'Mover hueco a izquierda', 'Mover hueco a arriba', 'Mover hueco a derecha', 'Mover hueco a derecha', 'Mover hueco a abajo', 'Mover hueco a izquierda', 'Mover hueco a izquierda', 'Mover hueco a arriba', 'Mover hueco a derecha', 'Mover hueco a derecha', 'Mover hueco a abajo', 'Mover hueco a izquierda', 'Mover hueco a izquierda', 'Mover hueco a arriba', 'Mover hueco a derecha', 'Mover hueco a derecha', 'Mover hueco a abajo', 'Mover hueco a izquierda', 'Mover hueco a izquierda', 'Mover hueco a arriba', 'Mover hueco a derecha', 'Mover hueco a derecha', 'Mover hueco a abajo', 'Mover hueco a izquierda', 'Mover hueco a arriba', 'Mover hueco a derecha', 'Mover hueco a abajo', 'Mover hueco a izquierda', 'Mover hueco a izquierda', 'Mover hueco a arriba', 'Mover hueco a derecha', 'Mover hueco a derecha', 'Mover hueco a abajo', 'Mover hueco a izquierda', 'Mover hueco a izquierda', 'Mover hueco a arriba', 'Mover hueco a derecha', 'Mover hueco a derecha', 'Mover hueco a arriba', 'Mover hueco a izquierda', 'Mover hueco a izquierda', 'Mover hueco a abajo', 'Mover hueco a derecha', 'Mover hueco a derecha', 'Mover hueco a abajo', 'Mover hueco a izquierda', 'Mover hueco a izquierda', 'Mover hueco a arriba', 'Mover hueco a derecha', 'Mover hueco a derecha', 'Mover hueco a abajo', 'Mover hueco a izquierda', 'Mover hueco a izquierda', 'Mover hueco a arriba', 'Mover hueco a derecha', 'Mover hueco a derecha', 'Mover hueco a abajo', 'Mover hueco a izquierda', 'Mover hueco a izquierda', 'Mover hueco a arriba', 'Mover hueco a derecha', 'Mover hueco a derecha', 'Mover hueco a abajo', 'Mover hueco a izquierda', 'Mover hueco a izquierda', 'Mover hueco a arriba', 'Mover hueco a derecha', 'Mover hueco a derecha', 'Mover hueco a abajo', 'Mover hueco a izquierda', 'Mover hueco a arriba', 'Mover hueco a derecha', 'Mover hueco a abajo', 'Mover hueco a izquierda', 'Mover hueco a izquierda', 'Mover hueco a arriba', 'Mover hueco a derecha', 'Mover hueco a derecha', 'Mover hueco a abajo', 'Mover hueco a izquierda', 'Mover hueco a izquierda', 'Mover hueco a arriba', 'Mover hueco a derecha', 'Mover hueco a derecha', 'Mover hueco a arriba', 'Mover hueco a izquierda', 'Mover hueco a izquierda', 'Mover hueco a abajo', 'Mover hueco a derecha', 'Mover hueco a derecha', 'Mover hueco a arriba', 'Mover hueco a izquierda', 'Mover hueco a izquierda', 'Mover hueco a abajo', 'Mover hueco a derecha', 'Mover hueco a derecha', 'Mover hueco a abajo', 'Mover hueco a izquierda', 'Mover hueco a izquierda', 'Mover hueco a arriba', 'Mover hueco a derecha', 'Mover hueco a derecha', 'Mover hueco a abajo', 'Mover hueco a izquierda', 'Mover hueco a izquierda', 'Mover hueco a arriba', 'Mover hueco a derecha', 'Mover hueco a derecha', 'Mover hueco a abajo', 'Mover hueco a izquierda', 'Mover hueco a izquierda', 'Mover hueco a arriba', 'Mover hueco a derecha', 'Mover hueco a derecha', 'Mover hueco a abajo', 'Mover hueco a izquierda', 'Mover hueco a izquierda', 'Mover hueco a arriba', 'Mover hueco a derecha', 'Mover hueco a derecha', 'Mover hueco a abajo', 'Mover hueco a izquierda', 'Mover hueco a arriba', 'Mover hueco a derecha', 'Mover hueco a abajo', 'Mover hueco a izquierda', 'Mover hueco a izquierda', 'Mover hueco a arriba', 'Mover hueco a derecha', 'Mover hueco a derecha', 'Mover hueco a abajo', 'Mover hueco a izquierda', 'Mover hueco a izquierda', 'Mover hueco a arriba', 'Mover hueco a derecha', 'Mover hueco a derecha', 'Mover hueco a arriba', 'Mover hueco a izquierda', 'Mover hueco a izquierda', 'Mover hueco a abajo', 'Mover hueco a derecha', 'Mover hueco a derecha', 'Mover hueco a abajo', 'Mover hueco a izquierda', 'Mover hueco a izquierda', 'Mover hueco a arriba', 'Mover hueco a derecha', 'Mover hueco a derecha', 'Mover hueco a abajo', 'Mover hueco a izquierda', 'Mover hueco a izquierda', 'Mover hueco a arriba', 'Mover hueco a derecha', 'Mover hueco a derecha', 'Mover hueco a abajo', 'Mover hueco a izquierda', 'Mover hueco a izquierda', 'Mover hueco a arriba', 'Mover hueco a derecha', 'Mover hueco a derecha', 'Mover hueco a abajo', 'Mover hueco a izquierda', 'Mover hueco a izquierda', 'Mover hueco a arriba', 'Mover hueco a derecha', 'Mover hueco a derecha', 'Mover hueco a abajo', 'Mover hueco a izquierda', 'Mover hueco a arriba', 'Mover hueco a derecha', 'Mover hueco a abajo', 'Mover hueco a izquierda', 'Mover hueco a izquierda', 'Mover hueco a arriba', 'Mover hueco a derecha', 'Mover hueco a derecha', 'Mover hueco a abajo', 'Mover hueco a izquierda', 'Mover hueco a izquierda', 'Mover hueco a arriba', 'Mover hueco a derecha', 'Mover hueco a derecha', 'Mover hueco a arriba', 'Mover hueco a izquierda', 'Mover hueco a izquierda', 'Mover hueco a abajo', 'Mover hueco a derecha', 'Mover hueco a derecha', 'Mover hueco a abajo', 'Mover hueco a izquierda', 'Mover hueco a izquierda', 'Mover hueco a arriba', 'Mover hueco a derecha', 'Mover hueco a derecha', 'Mover hueco a abajo', 'Mover hueco a izquierda', 'Mover hueco a izquierda', 'Mover hueco a arriba', 'Mover hueco a derecha', 'Mover hueco a derecha', 'Mover hueco a abajo', 'Mover hueco a izquierda', 'Mover hueco a izquierda', 'Mover hueco a arriba', 'Mover hueco a derecha', 'Mover hueco a derecha', 'Mover hueco a abajo', 'Mover hueco a izquierda', 'Mover hueco a izquierda', 'Mover hueco a arriba', 'Mover hueco a derecha', 'Mover hueco a derecha', 'Mover hueco a abajo', 'Mover hueco a izquierda', 'Mover hueco a arriba', 'Mover hueco a derecha', 'Mover hueco a abajo', 'Mover hueco a izquierda', 'Mover hueco a izquierda', 'Mover hueco a arriba', 'Mover hueco a derecha', 'Mover hueco a derecha', 'Mover hueco a abajo', 'Mover hueco a izquierda', 'Mover hueco a izquierda', 'Mover hueco a arriba', 'Mover hueco a derecha', 'Mover hueco a derecha', 'Mover hueco a arriba', 'Mover hueco a izquierda', 'Mover hueco a abajo', 'Mover hueco a derecha', 'Mover hueco a abajo', 'Mover hueco a izquierda', 'Mover hueco a izquierda', 'Mover hueco a arriba', 'Mover hueco a derecha', 'Mover hueco a derecha', 'Mover hueco a abajo', 'Mover hueco a izquierda', 'Mover hueco a izquierda', 'Mover hueco a arriba', 'Mover hueco a derecha', 'Mover hueco a derecha', 'Mover hueco a abajo', 'Mover hueco a izquierda', 'Mover hueco a izquierda', 'Mover hueco a arriba', 'Mover hueco a derecha', 'Mover hueco a derecha', 'Mover hueco a abajo', 'Mover hueco a izquierda', 'Mover hueco a izquierda', 'Mover hueco a arriba', 'Mover hueco a derecha', 'Mover hueco a derecha', 'Mover hueco a abajo', 'Mover hueco a izquierda', 'Mover hueco a arriba', 'Mover hueco a derecha', 'Mover hueco a abajo', 'Mover hueco a izquierda', 'Mover hueco a izquierda', 'Mover hueco a arriba', 'Mover hueco a derecha', 'Mover hueco a derecha', 'Mover hueco a abajo', 'Mover hueco a izquierda', 'Mover hueco a izquierda', 'Mover hueco a arriba', 'Mover hueco a derecha', 'Mover hueco a derecha', 'Mover hueco a arriba', 'Mover hueco a izquierda', 'Mover hueco a izquierda', 'Mover hueco a abajo', 'Mover hueco a derecha', 'Mover hueco a derecha', 'Mover hueco a abajo', 'Mover hueco a izquierda', 'Mover hueco a izquierda', 'Mover hueco a arriba', 'Mover hueco a derecha', 'Mover hueco a derecha', 'Mover hueco a abajo', 'Mover hueco a izquierda', 'Mover hueco a izquierda', 'Mover hueco a arriba', 'Mover hueco a derecha', 'Mover hueco a derecha', 'Mover hueco a abajo', 'Mover hueco a izquierda', 'Mover hueco a izquierda', 'Mover hueco a arriba', 'Mover hueco a derecha', 'Mover hueco a derecha', 'Mover hueco a abajo', 'Mover hueco a izquierda', 'Mover hueco a izquierda', 'Mover hueco a arriba', 'Mover hueco a derecha', 'Mover hueco a derecha', 'Mover hueco a abajo', 'Mover hueco a izquierda', 'Mover hueco a arriba', 'Mover hueco a derecha', 'Mover hueco a abajo', 'Mover hueco a izquierda', 'Mover hueco a izquierda', 'Mover hueco a arriba', 'Mover hueco a derecha', 'Mover hueco a derecha', 'Mover hueco a abajo', 'Mover hueco a izquierda', 'Mover hueco a izquierda', 'Mover hueco a arriba', 'Mover hueco a derecha', 'Mover hueco a derecha', 'Mover hueco a arriba', 'Mover hueco a izquierda', 'Mover hueco a izquierda', 'Mover hueco a abajo', 'Mover hueco a derecha', 'Mover hueco a derecha', 'Mover hueco a abajo', 'Mover hueco a izquierda', 'Mover hueco a izquierda', 'Mover hueco a arriba', 'Mover hueco a derecha', 'Mover hueco a derecha', 'Mover hueco a abajo', 'Mover hueco a izquierda', 'Mover hueco a izquierda', 'Mover hueco a arriba', 'Mover hueco a derecha', 'Mover hueco a derecha', 'Mover hueco a abajo', 'Mover hueco a izquierda', 'Mover hueco a izquierda', 'Mover hueco a arriba', 'Mover hueco a derecha', 'Mover hueco a derecha', 'Mover hueco a abajo', 'Mover hueco a izquierda', 'Mover hueco a izquierda', 'Mover hueco a arriba', 'Mover hueco a derecha', 'Mover hueco a derecha', 'Mover hueco a abajo', 'Mover hueco a izquierda', 'Mover hueco a arriba', 'Mover hueco a derecha', 'Mover hueco a abajo', 'Mover hueco a izquierda', 'Mover hueco a izquierda', 'Mover hueco a arriba', 'Mover hueco a derecha', 'Mover hueco a derecha', 'Mover hueco a abajo', 'Mover hueco a izquierda', 'Mover hueco a izquierda', 'Mover hueco a arriba', 'Mover hueco a derecha', 'Mover hueco a derecha', 'Mover hueco a arriba', 'Mover hueco a izquierda', 'Mover hueco a izquierda', 'Mover hueco a abajo', 'Mover hueco a derecha', 'Mover hueco a derecha', 'Mover hueco a arriba', 'Mover hueco a izquierda', 'Mover hueco a izquierda', 'Mover hueco a abajo', 'Mover hueco a derecha', 'Mover hueco a derecha', 'Mover hueco a abajo', 'Mover hueco a izquierda', 'Mover hueco a izquierda', 'Mover hueco a arriba', 'Mover hueco a derecha', 'Mover hueco a derecha', 'Mover hueco a abajo', 'Mover hueco a izquierda', 'Mover hueco a izquierda', 'Mover hueco a arriba', 'Mover hueco a derecha', 'Mover hueco a derecha', 'Mover hueco a abajo', 'Mover hueco a izquierda', 'Mover hueco a izquierda', 'Mover hueco a arriba', 'Mover hueco a derecha', 'Mover hueco a derecha', 'Mover hueco a abajo', 'Mover hueco a izquierda', 'Mover hueco a izquierda', 'Mover hueco a arriba', 'Mover hueco a derecha', 'Mover hueco a derecha', 'Mover hueco a arriba', 'Mover hueco a izquierda', 'Mover hueco a abajo', 'Mover hueco a derecha', 'Mover hueco a abajo', 'Mover hueco a izquierda', 'Mover hueco a arriba', 'Mover hueco a izquierda', 'Mover hueco a arriba', 'Mover hueco a derecha', 'Mover hueco a abajo']\n",
            "Longitud de la solución: 999. Nodos analizados: 1374, Tiempo de búsqueda: 0.4924452304840088\n",
            "[ BúsquedaEnProfundidadConCota ]\n",
            "Solución: ['Mover hueco a derecha', 'Mover hueco a abajo', 'Mover hueco a izquierda', 'Mover hueco a izquierda', 'Mover hueco a arriba', 'Mover hueco a derecha', 'Mover hueco a derecha', 'Mover hueco a abajo', 'Mover hueco a izquierda', 'Mover hueco a izquierda', 'Mover hueco a arriba', 'Mover hueco a derecha', 'Mover hueco a derecha', 'Mover hueco a abajo', 'Mover hueco a izquierda', 'Mover hueco a izquierda', 'Mover hueco a arriba', 'Mover hueco a derecha', 'Mover hueco a derecha', 'Mover hueco a abajo', 'Mover hueco a izquierda', 'Mover hueco a izquierda', 'Mover hueco a arriba', 'Mover hueco a derecha', 'Mover hueco a derecha', 'Mover hueco a abajo', 'Mover hueco a izquierda', 'Mover hueco a arriba', 'Mover hueco a derecha', 'Mover hueco a abajo', 'Mover hueco a izquierda', 'Mover hueco a izquierda', 'Mover hueco a arriba', 'Mover hueco a derecha', 'Mover hueco a derecha', 'Mover hueco a abajo', 'Mover hueco a izquierda', 'Mover hueco a izquierda', 'Mover hueco a arriba', 'Mover hueco a derecha', 'Mover hueco a derecha', 'Mover hueco a arriba', 'Mover hueco a izquierda', 'Mover hueco a izquierda', 'Mover hueco a abajo', 'Mover hueco a derecha', 'Mover hueco a derecha', 'Mover hueco a abajo', 'Mover hueco a izquierda', 'Mover hueco a izquierda', 'Mover hueco a arriba', 'Mover hueco a derecha', 'Mover hueco a derecha', 'Mover hueco a abajo', 'Mover hueco a izquierda', 'Mover hueco a izquierda', 'Mover hueco a arriba', 'Mover hueco a derecha', 'Mover hueco a derecha', 'Mover hueco a abajo', 'Mover hueco a izquierda', 'Mover hueco a izquierda', 'Mover hueco a arriba', 'Mover hueco a derecha', 'Mover hueco a derecha', 'Mover hueco a abajo', 'Mover hueco a izquierda', 'Mover hueco a izquierda', 'Mover hueco a arriba', 'Mover hueco a derecha', 'Mover hueco a derecha', 'Mover hueco a abajo', 'Mover hueco a izquierda', 'Mover hueco a arriba', 'Mover hueco a derecha', 'Mover hueco a abajo', 'Mover hueco a izquierda', 'Mover hueco a izquierda', 'Mover hueco a arriba', 'Mover hueco a derecha', 'Mover hueco a derecha', 'Mover hueco a abajo', 'Mover hueco a izquierda', 'Mover hueco a izquierda', 'Mover hueco a arriba', 'Mover hueco a derecha', 'Mover hueco a derecha', 'Mover hueco a arriba', 'Mover hueco a izquierda', 'Mover hueco a izquierda', 'Mover hueco a abajo', 'Mover hueco a derecha', 'Mover hueco a derecha', 'Mover hueco a abajo', 'Mover hueco a izquierda', 'Mover hueco a izquierda', 'Mover hueco a arriba', 'Mover hueco a derecha', 'Mover hueco a derecha', 'Mover hueco a abajo', 'Mover hueco a izquierda', 'Mover hueco a izquierda', 'Mover hueco a arriba', 'Mover hueco a derecha', 'Mover hueco a derecha', 'Mover hueco a abajo', 'Mover hueco a izquierda', 'Mover hueco a izquierda', 'Mover hueco a arriba', 'Mover hueco a derecha', 'Mover hueco a derecha', 'Mover hueco a abajo', 'Mover hueco a izquierda', 'Mover hueco a izquierda', 'Mover hueco a arriba', 'Mover hueco a derecha', 'Mover hueco a derecha', 'Mover hueco a abajo', 'Mover hueco a izquierda', 'Mover hueco a arriba', 'Mover hueco a derecha', 'Mover hueco a abajo', 'Mover hueco a izquierda', 'Mover hueco a izquierda', 'Mover hueco a arriba', 'Mover hueco a derecha', 'Mover hueco a derecha', 'Mover hueco a abajo', 'Mover hueco a izquierda', 'Mover hueco a izquierda', 'Mover hueco a arriba', 'Mover hueco a derecha', 'Mover hueco a derecha', 'Mover hueco a arriba', 'Mover hueco a izquierda', 'Mover hueco a izquierda', 'Mover hueco a abajo', 'Mover hueco a derecha', 'Mover hueco a derecha', 'Mover hueco a abajo', 'Mover hueco a izquierda', 'Mover hueco a izquierda', 'Mover hueco a arriba', 'Mover hueco a derecha', 'Mover hueco a derecha', 'Mover hueco a abajo', 'Mover hueco a izquierda', 'Mover hueco a izquierda', 'Mover hueco a arriba', 'Mover hueco a derecha', 'Mover hueco a derecha', 'Mover hueco a abajo', 'Mover hueco a izquierda', 'Mover hueco a izquierda', 'Mover hueco a arriba', 'Mover hueco a derecha', 'Mover hueco a derecha', 'Mover hueco a abajo', 'Mover hueco a izquierda', 'Mover hueco a izquierda', 'Mover hueco a arriba', 'Mover hueco a derecha', 'Mover hueco a derecha', 'Mover hueco a abajo', 'Mover hueco a izquierda', 'Mover hueco a arriba', 'Mover hueco a derecha', 'Mover hueco a abajo', 'Mover hueco a izquierda', 'Mover hueco a izquierda', 'Mover hueco a arriba', 'Mover hueco a derecha', 'Mover hueco a derecha', 'Mover hueco a abajo', 'Mover hueco a izquierda', 'Mover hueco a izquierda', 'Mover hueco a arriba', 'Mover hueco a derecha', 'Mover hueco a derecha', 'Mover hueco a arriba', 'Mover hueco a izquierda', 'Mover hueco a izquierda', 'Mover hueco a abajo', 'Mover hueco a derecha', 'Mover hueco a derecha', 'Mover hueco a abajo', 'Mover hueco a izquierda', 'Mover hueco a izquierda', 'Mover hueco a arriba', 'Mover hueco a derecha', 'Mover hueco a derecha', 'Mover hueco a abajo', 'Mover hueco a izquierda', 'Mover hueco a izquierda', 'Mover hueco a arriba', 'Mover hueco a derecha', 'Mover hueco a derecha', 'Mover hueco a abajo', 'Mover hueco a izquierda', 'Mover hueco a izquierda', 'Mover hueco a arriba', 'Mover hueco a derecha', 'Mover hueco a derecha', 'Mover hueco a abajo', 'Mover hueco a izquierda', 'Mover hueco a izquierda', 'Mover hueco a arriba', 'Mover hueco a derecha', 'Mover hueco a derecha', 'Mover hueco a abajo', 'Mover hueco a izquierda', 'Mover hueco a arriba', 'Mover hueco a derecha', 'Mover hueco a abajo', 'Mover hueco a izquierda', 'Mover hueco a izquierda', 'Mover hueco a arriba', 'Mover hueco a derecha', 'Mover hueco a derecha', 'Mover hueco a abajo', 'Mover hueco a izquierda', 'Mover hueco a izquierda', 'Mover hueco a arriba', 'Mover hueco a derecha', 'Mover hueco a derecha', 'Mover hueco a arriba', 'Mover hueco a izquierda', 'Mover hueco a izquierda', 'Mover hueco a abajo', 'Mover hueco a derecha', 'Mover hueco a derecha', 'Mover hueco a abajo', 'Mover hueco a izquierda', 'Mover hueco a izquierda', 'Mover hueco a arriba', 'Mover hueco a derecha', 'Mover hueco a derecha', 'Mover hueco a abajo', 'Mover hueco a izquierda', 'Mover hueco a izquierda', 'Mover hueco a arriba', 'Mover hueco a derecha', 'Mover hueco a derecha', 'Mover hueco a abajo', 'Mover hueco a izquierda', 'Mover hueco a izquierda', 'Mover hueco a arriba', 'Mover hueco a derecha', 'Mover hueco a derecha', 'Mover hueco a abajo', 'Mover hueco a izquierda', 'Mover hueco a izquierda', 'Mover hueco a arriba', 'Mover hueco a derecha', 'Mover hueco a derecha', 'Mover hueco a abajo', 'Mover hueco a izquierda', 'Mover hueco a arriba', 'Mover hueco a derecha', 'Mover hueco a abajo', 'Mover hueco a izquierda', 'Mover hueco a izquierda', 'Mover hueco a arriba', 'Mover hueco a derecha', 'Mover hueco a derecha', 'Mover hueco a abajo', 'Mover hueco a izquierda', 'Mover hueco a izquierda', 'Mover hueco a arriba', 'Mover hueco a derecha', 'Mover hueco a derecha', 'Mover hueco a arriba', 'Mover hueco a izquierda', 'Mover hueco a izquierda', 'Mover hueco a abajo', 'Mover hueco a derecha', 'Mover hueco a derecha', 'Mover hueco a abajo', 'Mover hueco a izquierda', 'Mover hueco a izquierda', 'Mover hueco a arriba', 'Mover hueco a derecha', 'Mover hueco a derecha', 'Mover hueco a abajo', 'Mover hueco a izquierda', 'Mover hueco a izquierda', 'Mover hueco a arriba', 'Mover hueco a derecha', 'Mover hueco a derecha', 'Mover hueco a abajo', 'Mover hueco a izquierda', 'Mover hueco a izquierda', 'Mover hueco a arriba', 'Mover hueco a derecha', 'Mover hueco a derecha', 'Mover hueco a abajo', 'Mover hueco a izquierda', 'Mover hueco a izquierda', 'Mover hueco a arriba', 'Mover hueco a derecha', 'Mover hueco a derecha', 'Mover hueco a abajo', 'Mover hueco a izquierda', 'Mover hueco a arriba', 'Mover hueco a derecha', 'Mover hueco a abajo', 'Mover hueco a izquierda', 'Mover hueco a izquierda', 'Mover hueco a arriba', 'Mover hueco a derecha', 'Mover hueco a derecha', 'Mover hueco a abajo', 'Mover hueco a izquierda', 'Mover hueco a izquierda', 'Mover hueco a arriba', 'Mover hueco a derecha', 'Mover hueco a derecha', 'Mover hueco a arriba', 'Mover hueco a izquierda', 'Mover hueco a abajo', 'Mover hueco a derecha', 'Mover hueco a abajo', 'Mover hueco a izquierda', 'Mover hueco a izquierda', 'Mover hueco a arriba', 'Mover hueco a derecha', 'Mover hueco a derecha', 'Mover hueco a abajo', 'Mover hueco a izquierda', 'Mover hueco a izquierda', 'Mover hueco a arriba', 'Mover hueco a derecha', 'Mover hueco a derecha', 'Mover hueco a abajo', 'Mover hueco a izquierda', 'Mover hueco a izquierda', 'Mover hueco a arriba', 'Mover hueco a derecha', 'Mover hueco a derecha', 'Mover hueco a abajo', 'Mover hueco a izquierda', 'Mover hueco a izquierda', 'Mover hueco a arriba', 'Mover hueco a derecha', 'Mover hueco a derecha', 'Mover hueco a abajo', 'Mover hueco a izquierda', 'Mover hueco a arriba', 'Mover hueco a derecha', 'Mover hueco a abajo', 'Mover hueco a izquierda', 'Mover hueco a izquierda', 'Mover hueco a arriba', 'Mover hueco a derecha', 'Mover hueco a derecha', 'Mover hueco a abajo', 'Mover hueco a izquierda', 'Mover hueco a izquierda', 'Mover hueco a arriba', 'Mover hueco a derecha', 'Mover hueco a derecha', 'Mover hueco a arriba', 'Mover hueco a izquierda', 'Mover hueco a izquierda', 'Mover hueco a abajo', 'Mover hueco a derecha', 'Mover hueco a derecha', 'Mover hueco a abajo', 'Mover hueco a izquierda', 'Mover hueco a izquierda', 'Mover hueco a arriba', 'Mover hueco a derecha', 'Mover hueco a derecha', 'Mover hueco a abajo', 'Mover hueco a izquierda', 'Mover hueco a izquierda', 'Mover hueco a arriba', 'Mover hueco a derecha', 'Mover hueco a derecha', 'Mover hueco a abajo', 'Mover hueco a izquierda', 'Mover hueco a izquierda', 'Mover hueco a arriba', 'Mover hueco a derecha', 'Mover hueco a derecha', 'Mover hueco a abajo', 'Mover hueco a izquierda', 'Mover hueco a izquierda', 'Mover hueco a arriba', 'Mover hueco a derecha', 'Mover hueco a derecha', 'Mover hueco a abajo', 'Mover hueco a izquierda', 'Mover hueco a arriba', 'Mover hueco a derecha', 'Mover hueco a abajo', 'Mover hueco a izquierda', 'Mover hueco a izquierda', 'Mover hueco a arriba', 'Mover hueco a derecha', 'Mover hueco a derecha', 'Mover hueco a abajo', 'Mover hueco a izquierda', 'Mover hueco a izquierda', 'Mover hueco a arriba', 'Mover hueco a derecha', 'Mover hueco a abajo', 'Mover hueco a derecha', 'Mover hueco a arriba', 'Mover hueco a arriba', 'Mover hueco a izquierda', 'Mover hueco a izquierda', 'Mover hueco a abajo', 'Mover hueco a derecha', 'Mover hueco a derecha', 'Mover hueco a abajo', 'Mover hueco a izquierda', 'Mover hueco a izquierda', 'Mover hueco a arriba', 'Mover hueco a derecha', 'Mover hueco a derecha', 'Mover hueco a abajo', 'Mover hueco a izquierda', 'Mover hueco a izquierda', 'Mover hueco a arriba', 'Mover hueco a derecha', 'Mover hueco a derecha', 'Mover hueco a abajo', 'Mover hueco a izquierda', 'Mover hueco a izquierda', 'Mover hueco a arriba', 'Mover hueco a derecha', 'Mover hueco a derecha', 'Mover hueco a abajo', 'Mover hueco a izquierda', 'Mover hueco a izquierda', 'Mover hueco a arriba', 'Mover hueco a derecha', 'Mover hueco a derecha', 'Mover hueco a abajo', 'Mover hueco a izquierda', 'Mover hueco a arriba', 'Mover hueco a derecha', 'Mover hueco a abajo', 'Mover hueco a izquierda', 'Mover hueco a izquierda', 'Mover hueco a arriba', 'Mover hueco a derecha', 'Mover hueco a derecha', 'Mover hueco a abajo', 'Mover hueco a izquierda', 'Mover hueco a izquierda', 'Mover hueco a arriba', 'Mover hueco a derecha', 'Mover hueco a derecha', 'Mover hueco a arriba', 'Mover hueco a izquierda', 'Mover hueco a izquierda', 'Mover hueco a abajo', 'Mover hueco a derecha', 'Mover hueco a derecha', 'Mover hueco a abajo', 'Mover hueco a izquierda', 'Mover hueco a izquierda', 'Mover hueco a arriba', 'Mover hueco a derecha', 'Mover hueco a derecha', 'Mover hueco a abajo', 'Mover hueco a izquierda', 'Mover hueco a izquierda', 'Mover hueco a arriba', 'Mover hueco a derecha', 'Mover hueco a derecha', 'Mover hueco a abajo', 'Mover hueco a izquierda', 'Mover hueco a izquierda', 'Mover hueco a arriba', 'Mover hueco a derecha', 'Mover hueco a derecha', 'Mover hueco a abajo', 'Mover hueco a izquierda', 'Mover hueco a izquierda', 'Mover hueco a arriba', 'Mover hueco a derecha', 'Mover hueco a derecha', 'Mover hueco a abajo', 'Mover hueco a izquierda', 'Mover hueco a arriba', 'Mover hueco a derecha', 'Mover hueco a abajo', 'Mover hueco a izquierda', 'Mover hueco a izquierda', 'Mover hueco a arriba', 'Mover hueco a derecha', 'Mover hueco a derecha', 'Mover hueco a abajo', 'Mover hueco a izquierda', 'Mover hueco a izquierda', 'Mover hueco a arriba', 'Mover hueco a derecha', 'Mover hueco a derecha', 'Mover hueco a arriba', 'Mover hueco a izquierda', 'Mover hueco a izquierda', 'Mover hueco a abajo', 'Mover hueco a derecha', 'Mover hueco a derecha', 'Mover hueco a abajo', 'Mover hueco a izquierda', 'Mover hueco a izquierda', 'Mover hueco a arriba', 'Mover hueco a derecha', 'Mover hueco a derecha', 'Mover hueco a abajo', 'Mover hueco a izquierda', 'Mover hueco a izquierda', 'Mover hueco a arriba', 'Mover hueco a derecha', 'Mover hueco a derecha', 'Mover hueco a abajo', 'Mover hueco a izquierda', 'Mover hueco a izquierda', 'Mover hueco a arriba', 'Mover hueco a derecha', 'Mover hueco a derecha', 'Mover hueco a abajo', 'Mover hueco a izquierda', 'Mover hueco a izquierda', 'Mover hueco a arriba', 'Mover hueco a derecha', 'Mover hueco a derecha', 'Mover hueco a abajo', 'Mover hueco a izquierda', 'Mover hueco a arriba', 'Mover hueco a derecha', 'Mover hueco a abajo', 'Mover hueco a izquierda', 'Mover hueco a izquierda', 'Mover hueco a arriba', 'Mover hueco a derecha', 'Mover hueco a derecha', 'Mover hueco a abajo', 'Mover hueco a izquierda', 'Mover hueco a izquierda', 'Mover hueco a arriba', 'Mover hueco a derecha', 'Mover hueco a derecha', 'Mover hueco a arriba', 'Mover hueco a izquierda', 'Mover hueco a izquierda', 'Mover hueco a abajo', 'Mover hueco a derecha', 'Mover hueco a derecha', 'Mover hueco a abajo', 'Mover hueco a izquierda', 'Mover hueco a izquierda', 'Mover hueco a arriba', 'Mover hueco a derecha', 'Mover hueco a derecha', 'Mover hueco a abajo', 'Mover hueco a izquierda', 'Mover hueco a izquierda', 'Mover hueco a arriba', 'Mover hueco a derecha', 'Mover hueco a derecha', 'Mover hueco a abajo', 'Mover hueco a izquierda', 'Mover hueco a izquierda', 'Mover hueco a arriba', 'Mover hueco a derecha', 'Mover hueco a derecha', 'Mover hueco a abajo', 'Mover hueco a izquierda', 'Mover hueco a izquierda', 'Mover hueco a arriba', 'Mover hueco a derecha', 'Mover hueco a derecha', 'Mover hueco a abajo', 'Mover hueco a izquierda', 'Mover hueco a arriba', 'Mover hueco a derecha', 'Mover hueco a abajo', 'Mover hueco a izquierda', 'Mover hueco a izquierda', 'Mover hueco a arriba', 'Mover hueco a derecha', 'Mover hueco a derecha', 'Mover hueco a abajo', 'Mover hueco a izquierda', 'Mover hueco a izquierda', 'Mover hueco a arriba', 'Mover hueco a derecha', 'Mover hueco a derecha', 'Mover hueco a arriba', 'Mover hueco a izquierda', 'Mover hueco a izquierda', 'Mover hueco a abajo', 'Mover hueco a derecha', 'Mover hueco a derecha', 'Mover hueco a abajo', 'Mover hueco a izquierda', 'Mover hueco a izquierda', 'Mover hueco a arriba', 'Mover hueco a derecha', 'Mover hueco a derecha', 'Mover hueco a abajo', 'Mover hueco a izquierda', 'Mover hueco a izquierda', 'Mover hueco a arriba', 'Mover hueco a derecha', 'Mover hueco a derecha', 'Mover hueco a abajo', 'Mover hueco a izquierda', 'Mover hueco a izquierda', 'Mover hueco a arriba', 'Mover hueco a derecha', 'Mover hueco a derecha', 'Mover hueco a abajo', 'Mover hueco a izquierda', 'Mover hueco a izquierda', 'Mover hueco a arriba', 'Mover hueco a derecha', 'Mover hueco a derecha', 'Mover hueco a abajo', 'Mover hueco a izquierda', 'Mover hueco a arriba', 'Mover hueco a derecha', 'Mover hueco a abajo', 'Mover hueco a izquierda', 'Mover hueco a izquierda', 'Mover hueco a arriba', 'Mover hueco a derecha', 'Mover hueco a derecha', 'Mover hueco a abajo', 'Mover hueco a izquierda', 'Mover hueco a izquierda', 'Mover hueco a arriba', 'Mover hueco a derecha', 'Mover hueco a derecha', 'Mover hueco a arriba', 'Mover hueco a izquierda', 'Mover hueco a izquierda', 'Mover hueco a abajo', 'Mover hueco a derecha', 'Mover hueco a derecha', 'Mover hueco a arriba', 'Mover hueco a izquierda', 'Mover hueco a izquierda', 'Mover hueco a abajo', 'Mover hueco a derecha', 'Mover hueco a derecha', 'Mover hueco a abajo', 'Mover hueco a izquierda', 'Mover hueco a izquierda', 'Mover hueco a arriba', 'Mover hueco a derecha', 'Mover hueco a derecha', 'Mover hueco a abajo', 'Mover hueco a izquierda', 'Mover hueco a izquierda', 'Mover hueco a arriba', 'Mover hueco a derecha', 'Mover hueco a derecha', 'Mover hueco a abajo', 'Mover hueco a izquierda', 'Mover hueco a izquierda', 'Mover hueco a arriba', 'Mover hueco a derecha', 'Mover hueco a derecha', 'Mover hueco a abajo', 'Mover hueco a izquierda', 'Mover hueco a izquierda', 'Mover hueco a arriba', 'Mover hueco a derecha', 'Mover hueco a derecha', 'Mover hueco a abajo', 'Mover hueco a izquierda', 'Mover hueco a arriba', 'Mover hueco a derecha', 'Mover hueco a abajo', 'Mover hueco a izquierda', 'Mover hueco a izquierda', 'Mover hueco a arriba', 'Mover hueco a derecha', 'Mover hueco a derecha', 'Mover hueco a abajo', 'Mover hueco a izquierda', 'Mover hueco a izquierda', 'Mover hueco a arriba', 'Mover hueco a derecha', 'Mover hueco a derecha', 'Mover hueco a arriba', 'Mover hueco a izquierda', 'Mover hueco a izquierda', 'Mover hueco a abajo', 'Mover hueco a derecha', 'Mover hueco a derecha', 'Mover hueco a abajo', 'Mover hueco a izquierda', 'Mover hueco a izquierda', 'Mover hueco a arriba', 'Mover hueco a derecha', 'Mover hueco a derecha', 'Mover hueco a abajo', 'Mover hueco a izquierda', 'Mover hueco a izquierda', 'Mover hueco a arriba', 'Mover hueco a derecha', 'Mover hueco a derecha', 'Mover hueco a abajo', 'Mover hueco a izquierda', 'Mover hueco a izquierda', 'Mover hueco a arriba', 'Mover hueco a derecha', 'Mover hueco a derecha', 'Mover hueco a abajo', 'Mover hueco a izquierda', 'Mover hueco a izquierda', 'Mover hueco a arriba', 'Mover hueco a derecha', 'Mover hueco a derecha', 'Mover hueco a abajo', 'Mover hueco a izquierda', 'Mover hueco a arriba', 'Mover hueco a derecha', 'Mover hueco a abajo', 'Mover hueco a izquierda', 'Mover hueco a izquierda', 'Mover hueco a arriba', 'Mover hueco a derecha', 'Mover hueco a derecha', 'Mover hueco a abajo', 'Mover hueco a izquierda', 'Mover hueco a izquierda', 'Mover hueco a arriba', 'Mover hueco a derecha', 'Mover hueco a derecha', 'Mover hueco a arriba', 'Mover hueco a izquierda', 'Mover hueco a izquierda', 'Mover hueco a abajo', 'Mover hueco a derecha', 'Mover hueco a derecha', 'Mover hueco a abajo', 'Mover hueco a izquierda', 'Mover hueco a izquierda', 'Mover hueco a arriba', 'Mover hueco a derecha', 'Mover hueco a derecha', 'Mover hueco a abajo', 'Mover hueco a izquierda', 'Mover hueco a izquierda', 'Mover hueco a arriba', 'Mover hueco a derecha', 'Mover hueco a derecha', 'Mover hueco a abajo', 'Mover hueco a izquierda', 'Mover hueco a izquierda', 'Mover hueco a arriba', 'Mover hueco a derecha', 'Mover hueco a derecha', 'Mover hueco a abajo', 'Mover hueco a izquierda', 'Mover hueco a izquierda', 'Mover hueco a arriba', 'Mover hueco a derecha', 'Mover hueco a derecha', 'Mover hueco a abajo', 'Mover hueco a izquierda', 'Mover hueco a arriba', 'Mover hueco a derecha', 'Mover hueco a abajo', 'Mover hueco a izquierda', 'Mover hueco a izquierda', 'Mover hueco a arriba', 'Mover hueco a derecha', 'Mover hueco a derecha', 'Mover hueco a abajo', 'Mover hueco a izquierda', 'Mover hueco a izquierda', 'Mover hueco a arriba', 'Mover hueco a derecha', 'Mover hueco a derecha', 'Mover hueco a arriba', 'Mover hueco a izquierda', 'Mover hueco a abajo', 'Mover hueco a derecha', 'Mover hueco a abajo', 'Mover hueco a izquierda', 'Mover hueco a izquierda', 'Mover hueco a arriba', 'Mover hueco a derecha', 'Mover hueco a derecha', 'Mover hueco a abajo', 'Mover hueco a izquierda', 'Mover hueco a izquierda', 'Mover hueco a arriba', 'Mover hueco a derecha', 'Mover hueco a derecha', 'Mover hueco a abajo', 'Mover hueco a izquierda', 'Mover hueco a izquierda', 'Mover hueco a arriba', 'Mover hueco a derecha', 'Mover hueco a derecha', 'Mover hueco a abajo', 'Mover hueco a izquierda', 'Mover hueco a izquierda', 'Mover hueco a arriba', 'Mover hueco a derecha', 'Mover hueco a derecha', 'Mover hueco a abajo', 'Mover hueco a izquierda', 'Mover hueco a arriba', 'Mover hueco a derecha', 'Mover hueco a abajo', 'Mover hueco a izquierda', 'Mover hueco a izquierda', 'Mover hueco a arriba', 'Mover hueco a derecha', 'Mover hueco a derecha', 'Mover hueco a abajo', 'Mover hueco a izquierda', 'Mover hueco a izquierda', 'Mover hueco a arriba', 'Mover hueco a derecha', 'Mover hueco a derecha', 'Mover hueco a arriba', 'Mover hueco a izquierda', 'Mover hueco a izquierda', 'Mover hueco a abajo', 'Mover hueco a derecha', 'Mover hueco a derecha', 'Mover hueco a abajo', 'Mover hueco a izquierda', 'Mover hueco a izquierda', 'Mover hueco a arriba', 'Mover hueco a derecha', 'Mover hueco a derecha', 'Mover hueco a abajo', 'Mover hueco a izquierda', 'Mover hueco a izquierda', 'Mover hueco a arriba', 'Mover hueco a derecha', 'Mover hueco a derecha', 'Mover hueco a abajo', 'Mover hueco a izquierda', 'Mover hueco a izquierda', 'Mover hueco a arriba', 'Mover hueco a derecha', 'Mover hueco a derecha', 'Mover hueco a abajo', 'Mover hueco a izquierda', 'Mover hueco a izquierda', 'Mover hueco a arriba', 'Mover hueco a derecha', 'Mover hueco a derecha', 'Mover hueco a abajo', 'Mover hueco a izquierda', 'Mover hueco a arriba', 'Mover hueco a derecha', 'Mover hueco a abajo', 'Mover hueco a izquierda', 'Mover hueco a izquierda', 'Mover hueco a arriba', 'Mover hueco a derecha', 'Mover hueco a derecha', 'Mover hueco a abajo', 'Mover hueco a izquierda', 'Mover hueco a izquierda', 'Mover hueco a arriba', 'Mover hueco a derecha', 'Mover hueco a derecha', 'Mover hueco a arriba', 'Mover hueco a izquierda', 'Mover hueco a izquierda', 'Mover hueco a abajo', 'Mover hueco a derecha', 'Mover hueco a derecha', 'Mover hueco a abajo', 'Mover hueco a izquierda', 'Mover hueco a izquierda', 'Mover hueco a arriba', 'Mover hueco a derecha', 'Mover hueco a derecha', 'Mover hueco a abajo', 'Mover hueco a izquierda', 'Mover hueco a izquierda', 'Mover hueco a arriba', 'Mover hueco a derecha', 'Mover hueco a derecha', 'Mover hueco a abajo', 'Mover hueco a izquierda', 'Mover hueco a izquierda', 'Mover hueco a arriba', 'Mover hueco a derecha', 'Mover hueco a derecha', 'Mover hueco a abajo', 'Mover hueco a izquierda', 'Mover hueco a izquierda', 'Mover hueco a arriba', 'Mover hueco a derecha', 'Mover hueco a derecha', 'Mover hueco a abajo', 'Mover hueco a izquierda', 'Mover hueco a arriba', 'Mover hueco a derecha', 'Mover hueco a abajo', 'Mover hueco a izquierda', 'Mover hueco a izquierda', 'Mover hueco a arriba', 'Mover hueco a derecha', 'Mover hueco a derecha', 'Mover hueco a abajo', 'Mover hueco a izquierda', 'Mover hueco a izquierda', 'Mover hueco a arriba', 'Mover hueco a derecha', 'Mover hueco a derecha', 'Mover hueco a arriba', 'Mover hueco a izquierda', 'Mover hueco a izquierda', 'Mover hueco a abajo', 'Mover hueco a derecha', 'Mover hueco a derecha', 'Mover hueco a arriba', 'Mover hueco a izquierda', 'Mover hueco a izquierda', 'Mover hueco a abajo', 'Mover hueco a derecha', 'Mover hueco a derecha', 'Mover hueco a abajo', 'Mover hueco a izquierda', 'Mover hueco a izquierda', 'Mover hueco a arriba', 'Mover hueco a derecha', 'Mover hueco a derecha', 'Mover hueco a abajo', 'Mover hueco a izquierda', 'Mover hueco a izquierda', 'Mover hueco a arriba', 'Mover hueco a derecha', 'Mover hueco a derecha', 'Mover hueco a abajo', 'Mover hueco a izquierda', 'Mover hueco a izquierda', 'Mover hueco a arriba', 'Mover hueco a derecha', 'Mover hueco a derecha', 'Mover hueco a abajo', 'Mover hueco a izquierda', 'Mover hueco a izquierda', 'Mover hueco a arriba', 'Mover hueco a derecha', 'Mover hueco a derecha', 'Mover hueco a abajo', 'Mover hueco a izquierda', 'Mover hueco a arriba', 'Mover hueco a derecha', 'Mover hueco a abajo', 'Mover hueco a izquierda', 'Mover hueco a izquierda', 'Mover hueco a arriba', 'Mover hueco a derecha', 'Mover hueco a derecha', 'Mover hueco a abajo', 'Mover hueco a izquierda', 'Mover hueco a izquierda', 'Mover hueco a arriba', 'Mover hueco a derecha', 'Mover hueco a derecha', 'Mover hueco a arriba', 'Mover hueco a izquierda', 'Mover hueco a izquierda', 'Mover hueco a abajo', 'Mover hueco a derecha', 'Mover hueco a derecha', 'Mover hueco a arriba', 'Mover hueco a izquierda', 'Mover hueco a abajo', 'Mover hueco a izquierda', 'Mover hueco a abajo', 'Mover hueco a derecha', 'Mover hueco a arriba', 'Mover hueco a derecha', 'Mover hueco a arriba', 'Mover hueco a izquierda', 'Mover hueco a izquierda', 'Mover hueco a abajo', 'Mover hueco a derecha']\n",
            "Longitud de la solución: 990. Nodos analizados: 16868, Tiempo de búsqueda: 36.59780550003052\n",
            "[ BúsquedaEnProfundidadConCota ]\n",
            "Solución: ['Mover hueco a derecha', 'Mover hueco a abajo', 'Mover hueco a izquierda', 'Mover hueco a izquierda', 'Mover hueco a arriba', 'Mover hueco a derecha', 'Mover hueco a derecha', 'Mover hueco a abajo', 'Mover hueco a izquierda', 'Mover hueco a izquierda', 'Mover hueco a arriba', 'Mover hueco a derecha', 'Mover hueco a derecha', 'Mover hueco a abajo', 'Mover hueco a izquierda', 'Mover hueco a izquierda', 'Mover hueco a arriba', 'Mover hueco a derecha', 'Mover hueco a derecha', 'Mover hueco a abajo', 'Mover hueco a izquierda', 'Mover hueco a izquierda', 'Mover hueco a arriba', 'Mover hueco a derecha', 'Mover hueco a derecha', 'Mover hueco a abajo', 'Mover hueco a izquierda', 'Mover hueco a arriba', 'Mover hueco a derecha', 'Mover hueco a abajo', 'Mover hueco a izquierda', 'Mover hueco a izquierda', 'Mover hueco a arriba', 'Mover hueco a derecha', 'Mover hueco a derecha', 'Mover hueco a abajo', 'Mover hueco a izquierda', 'Mover hueco a izquierda', 'Mover hueco a arriba', 'Mover hueco a derecha', 'Mover hueco a derecha', 'Mover hueco a arriba', 'Mover hueco a izquierda', 'Mover hueco a izquierda', 'Mover hueco a abajo', 'Mover hueco a derecha', 'Mover hueco a derecha', 'Mover hueco a abajo', 'Mover hueco a izquierda', 'Mover hueco a izquierda', 'Mover hueco a arriba', 'Mover hueco a derecha', 'Mover hueco a derecha', 'Mover hueco a abajo', 'Mover hueco a izquierda', 'Mover hueco a izquierda', 'Mover hueco a arriba', 'Mover hueco a derecha', 'Mover hueco a derecha', 'Mover hueco a abajo', 'Mover hueco a izquierda', 'Mover hueco a izquierda', 'Mover hueco a arriba', 'Mover hueco a derecha', 'Mover hueco a derecha', 'Mover hueco a abajo', 'Mover hueco a izquierda', 'Mover hueco a izquierda', 'Mover hueco a arriba', 'Mover hueco a derecha', 'Mover hueco a derecha', 'Mover hueco a abajo', 'Mover hueco a izquierda', 'Mover hueco a arriba', 'Mover hueco a derecha', 'Mover hueco a abajo', 'Mover hueco a izquierda', 'Mover hueco a izquierda', 'Mover hueco a arriba', 'Mover hueco a derecha', 'Mover hueco a derecha', 'Mover hueco a abajo', 'Mover hueco a izquierda', 'Mover hueco a izquierda', 'Mover hueco a arriba', 'Mover hueco a derecha', 'Mover hueco a derecha', 'Mover hueco a arriba', 'Mover hueco a izquierda', 'Mover hueco a izquierda', 'Mover hueco a abajo', 'Mover hueco a derecha', 'Mover hueco a derecha', 'Mover hueco a abajo', 'Mover hueco a izquierda', 'Mover hueco a izquierda', 'Mover hueco a arriba', 'Mover hueco a derecha', 'Mover hueco a derecha', 'Mover hueco a abajo', 'Mover hueco a izquierda', 'Mover hueco a izquierda', 'Mover hueco a arriba', 'Mover hueco a derecha', 'Mover hueco a derecha', 'Mover hueco a abajo', 'Mover hueco a izquierda', 'Mover hueco a izquierda', 'Mover hueco a arriba', 'Mover hueco a derecha', 'Mover hueco a derecha', 'Mover hueco a abajo', 'Mover hueco a izquierda', 'Mover hueco a izquierda', 'Mover hueco a arriba', 'Mover hueco a derecha', 'Mover hueco a derecha', 'Mover hueco a abajo', 'Mover hueco a izquierda', 'Mover hueco a arriba', 'Mover hueco a derecha', 'Mover hueco a abajo', 'Mover hueco a izquierda', 'Mover hueco a izquierda', 'Mover hueco a arriba', 'Mover hueco a derecha', 'Mover hueco a derecha', 'Mover hueco a abajo', 'Mover hueco a izquierda', 'Mover hueco a izquierda', 'Mover hueco a arriba', 'Mover hueco a derecha', 'Mover hueco a derecha', 'Mover hueco a arriba', 'Mover hueco a izquierda', 'Mover hueco a izquierda', 'Mover hueco a abajo', 'Mover hueco a derecha', 'Mover hueco a derecha', 'Mover hueco a abajo', 'Mover hueco a izquierda', 'Mover hueco a izquierda', 'Mover hueco a arriba', 'Mover hueco a derecha', 'Mover hueco a derecha', 'Mover hueco a abajo', 'Mover hueco a izquierda', 'Mover hueco a izquierda', 'Mover hueco a arriba', 'Mover hueco a derecha', 'Mover hueco a derecha', 'Mover hueco a abajo', 'Mover hueco a izquierda', 'Mover hueco a izquierda', 'Mover hueco a arriba', 'Mover hueco a derecha', 'Mover hueco a derecha', 'Mover hueco a abajo', 'Mover hueco a izquierda', 'Mover hueco a izquierda', 'Mover hueco a arriba', 'Mover hueco a derecha', 'Mover hueco a derecha', 'Mover hueco a abajo', 'Mover hueco a izquierda', 'Mover hueco a arriba', 'Mover hueco a derecha', 'Mover hueco a abajo', 'Mover hueco a izquierda', 'Mover hueco a izquierda', 'Mover hueco a arriba', 'Mover hueco a derecha', 'Mover hueco a derecha', 'Mover hueco a abajo', 'Mover hueco a izquierda', 'Mover hueco a izquierda', 'Mover hueco a arriba', 'Mover hueco a derecha', 'Mover hueco a derecha', 'Mover hueco a arriba', 'Mover hueco a izquierda', 'Mover hueco a izquierda', 'Mover hueco a abajo', 'Mover hueco a derecha', 'Mover hueco a derecha', 'Mover hueco a abajo', 'Mover hueco a izquierda', 'Mover hueco a izquierda', 'Mover hueco a arriba', 'Mover hueco a derecha', 'Mover hueco a derecha', 'Mover hueco a abajo', 'Mover hueco a izquierda', 'Mover hueco a izquierda', 'Mover hueco a arriba', 'Mover hueco a derecha', 'Mover hueco a derecha', 'Mover hueco a abajo', 'Mover hueco a izquierda', 'Mover hueco a izquierda', 'Mover hueco a arriba', 'Mover hueco a derecha', 'Mover hueco a derecha', 'Mover hueco a abajo', 'Mover hueco a izquierda', 'Mover hueco a izquierda', 'Mover hueco a arriba', 'Mover hueco a derecha', 'Mover hueco a derecha', 'Mover hueco a abajo', 'Mover hueco a izquierda', 'Mover hueco a arriba', 'Mover hueco a derecha', 'Mover hueco a abajo', 'Mover hueco a izquierda', 'Mover hueco a izquierda', 'Mover hueco a arriba', 'Mover hueco a derecha', 'Mover hueco a derecha', 'Mover hueco a abajo', 'Mover hueco a izquierda', 'Mover hueco a izquierda', 'Mover hueco a arriba', 'Mover hueco a derecha', 'Mover hueco a derecha', 'Mover hueco a arriba', 'Mover hueco a izquierda', 'Mover hueco a izquierda', 'Mover hueco a abajo', 'Mover hueco a derecha', 'Mover hueco a derecha', 'Mover hueco a abajo', 'Mover hueco a izquierda', 'Mover hueco a izquierda', 'Mover hueco a arriba', 'Mover hueco a derecha', 'Mover hueco a derecha', 'Mover hueco a abajo', 'Mover hueco a izquierda', 'Mover hueco a izquierda', 'Mover hueco a arriba', 'Mover hueco a derecha', 'Mover hueco a derecha', 'Mover hueco a abajo', 'Mover hueco a izquierda', 'Mover hueco a izquierda', 'Mover hueco a arriba', 'Mover hueco a derecha', 'Mover hueco a derecha', 'Mover hueco a abajo', 'Mover hueco a izquierda', 'Mover hueco a izquierda', 'Mover hueco a arriba', 'Mover hueco a derecha', 'Mover hueco a derecha', 'Mover hueco a abajo', 'Mover hueco a izquierda', 'Mover hueco a arriba', 'Mover hueco a derecha', 'Mover hueco a abajo', 'Mover hueco a izquierda', 'Mover hueco a izquierda', 'Mover hueco a arriba', 'Mover hueco a derecha', 'Mover hueco a derecha', 'Mover hueco a abajo', 'Mover hueco a izquierda', 'Mover hueco a izquierda', 'Mover hueco a arriba', 'Mover hueco a derecha', 'Mover hueco a derecha', 'Mover hueco a arriba', 'Mover hueco a izquierda', 'Mover hueco a izquierda', 'Mover hueco a abajo', 'Mover hueco a derecha', 'Mover hueco a derecha', 'Mover hueco a abajo', 'Mover hueco a izquierda', 'Mover hueco a izquierda', 'Mover hueco a arriba', 'Mover hueco a derecha', 'Mover hueco a derecha', 'Mover hueco a abajo', 'Mover hueco a izquierda', 'Mover hueco a izquierda', 'Mover hueco a arriba', 'Mover hueco a derecha', 'Mover hueco a derecha', 'Mover hueco a abajo', 'Mover hueco a izquierda', 'Mover hueco a izquierda', 'Mover hueco a arriba', 'Mover hueco a derecha', 'Mover hueco a derecha', 'Mover hueco a abajo', 'Mover hueco a izquierda', 'Mover hueco a izquierda', 'Mover hueco a arriba', 'Mover hueco a derecha', 'Mover hueco a derecha', 'Mover hueco a abajo', 'Mover hueco a izquierda', 'Mover hueco a arriba', 'Mover hueco a derecha', 'Mover hueco a abajo', 'Mover hueco a izquierda', 'Mover hueco a izquierda', 'Mover hueco a arriba', 'Mover hueco a derecha', 'Mover hueco a derecha', 'Mover hueco a abajo', 'Mover hueco a izquierda', 'Mover hueco a izquierda', 'Mover hueco a arriba', 'Mover hueco a derecha', 'Mover hueco a derecha', 'Mover hueco a arriba', 'Mover hueco a izquierda', 'Mover hueco a abajo', 'Mover hueco a derecha', 'Mover hueco a abajo', 'Mover hueco a izquierda', 'Mover hueco a izquierda', 'Mover hueco a arriba', 'Mover hueco a derecha', 'Mover hueco a derecha', 'Mover hueco a abajo', 'Mover hueco a izquierda', 'Mover hueco a izquierda', 'Mover hueco a arriba', 'Mover hueco a derecha', 'Mover hueco a derecha', 'Mover hueco a abajo', 'Mover hueco a izquierda', 'Mover hueco a izquierda', 'Mover hueco a arriba', 'Mover hueco a derecha', 'Mover hueco a derecha', 'Mover hueco a abajo', 'Mover hueco a izquierda', 'Mover hueco a izquierda', 'Mover hueco a arriba', 'Mover hueco a derecha', 'Mover hueco a derecha', 'Mover hueco a abajo', 'Mover hueco a izquierda', 'Mover hueco a arriba', 'Mover hueco a derecha', 'Mover hueco a abajo', 'Mover hueco a izquierda', 'Mover hueco a izquierda', 'Mover hueco a arriba', 'Mover hueco a derecha', 'Mover hueco a derecha', 'Mover hueco a abajo', 'Mover hueco a izquierda', 'Mover hueco a izquierda', 'Mover hueco a arriba', 'Mover hueco a derecha', 'Mover hueco a derecha', 'Mover hueco a arriba', 'Mover hueco a izquierda', 'Mover hueco a izquierda', 'Mover hueco a abajo', 'Mover hueco a derecha', 'Mover hueco a derecha', 'Mover hueco a abajo', 'Mover hueco a izquierda', 'Mover hueco a izquierda', 'Mover hueco a arriba', 'Mover hueco a derecha', 'Mover hueco a derecha', 'Mover hueco a abajo', 'Mover hueco a izquierda', 'Mover hueco a izquierda', 'Mover hueco a arriba', 'Mover hueco a derecha', 'Mover hueco a derecha', 'Mover hueco a abajo', 'Mover hueco a izquierda', 'Mover hueco a izquierda', 'Mover hueco a arriba', 'Mover hueco a derecha', 'Mover hueco a derecha', 'Mover hueco a abajo', 'Mover hueco a izquierda', 'Mover hueco a izquierda', 'Mover hueco a arriba', 'Mover hueco a derecha', 'Mover hueco a derecha', 'Mover hueco a abajo', 'Mover hueco a izquierda', 'Mover hueco a arriba', 'Mover hueco a derecha', 'Mover hueco a abajo', 'Mover hueco a izquierda', 'Mover hueco a izquierda', 'Mover hueco a arriba', 'Mover hueco a derecha', 'Mover hueco a derecha', 'Mover hueco a abajo', 'Mover hueco a izquierda', 'Mover hueco a izquierda', 'Mover hueco a arriba', 'Mover hueco a derecha', 'Mover hueco a abajo', 'Mover hueco a derecha', 'Mover hueco a arriba', 'Mover hueco a arriba', 'Mover hueco a izquierda', 'Mover hueco a izquierda', 'Mover hueco a abajo', 'Mover hueco a derecha', 'Mover hueco a derecha', 'Mover hueco a abajo', 'Mover hueco a izquierda', 'Mover hueco a izquierda', 'Mover hueco a arriba', 'Mover hueco a derecha', 'Mover hueco a derecha', 'Mover hueco a abajo', 'Mover hueco a izquierda', 'Mover hueco a izquierda', 'Mover hueco a arriba', 'Mover hueco a derecha', 'Mover hueco a derecha', 'Mover hueco a abajo', 'Mover hueco a izquierda', 'Mover hueco a izquierda', 'Mover hueco a arriba', 'Mover hueco a derecha', 'Mover hueco a derecha', 'Mover hueco a abajo', 'Mover hueco a izquierda', 'Mover hueco a izquierda', 'Mover hueco a arriba', 'Mover hueco a derecha', 'Mover hueco a derecha', 'Mover hueco a abajo', 'Mover hueco a izquierda', 'Mover hueco a arriba', 'Mover hueco a derecha', 'Mover hueco a abajo', 'Mover hueco a izquierda', 'Mover hueco a izquierda', 'Mover hueco a arriba', 'Mover hueco a derecha', 'Mover hueco a derecha', 'Mover hueco a abajo', 'Mover hueco a izquierda', 'Mover hueco a izquierda', 'Mover hueco a arriba', 'Mover hueco a derecha', 'Mover hueco a derecha', 'Mover hueco a arriba', 'Mover hueco a izquierda', 'Mover hueco a izquierda', 'Mover hueco a abajo', 'Mover hueco a derecha', 'Mover hueco a derecha', 'Mover hueco a abajo', 'Mover hueco a izquierda', 'Mover hueco a izquierda', 'Mover hueco a arriba', 'Mover hueco a derecha', 'Mover hueco a derecha', 'Mover hueco a abajo', 'Mover hueco a izquierda', 'Mover hueco a izquierda', 'Mover hueco a arriba', 'Mover hueco a derecha', 'Mover hueco a derecha', 'Mover hueco a abajo', 'Mover hueco a izquierda', 'Mover hueco a izquierda', 'Mover hueco a arriba', 'Mover hueco a derecha', 'Mover hueco a derecha', 'Mover hueco a abajo', 'Mover hueco a izquierda', 'Mover hueco a izquierda', 'Mover hueco a arriba', 'Mover hueco a derecha', 'Mover hueco a derecha', 'Mover hueco a abajo', 'Mover hueco a izquierda', 'Mover hueco a arriba', 'Mover hueco a derecha', 'Mover hueco a abajo', 'Mover hueco a izquierda', 'Mover hueco a izquierda', 'Mover hueco a arriba', 'Mover hueco a derecha', 'Mover hueco a derecha', 'Mover hueco a abajo', 'Mover hueco a izquierda', 'Mover hueco a izquierda', 'Mover hueco a arriba', 'Mover hueco a derecha', 'Mover hueco a derecha', 'Mover hueco a arriba', 'Mover hueco a izquierda', 'Mover hueco a izquierda', 'Mover hueco a abajo', 'Mover hueco a derecha', 'Mover hueco a derecha', 'Mover hueco a abajo', 'Mover hueco a izquierda', 'Mover hueco a izquierda', 'Mover hueco a arriba', 'Mover hueco a derecha', 'Mover hueco a derecha', 'Mover hueco a abajo', 'Mover hueco a izquierda', 'Mover hueco a izquierda', 'Mover hueco a arriba', 'Mover hueco a derecha', 'Mover hueco a derecha', 'Mover hueco a abajo', 'Mover hueco a izquierda', 'Mover hueco a izquierda', 'Mover hueco a arriba', 'Mover hueco a derecha', 'Mover hueco a derecha', 'Mover hueco a abajo', 'Mover hueco a izquierda', 'Mover hueco a izquierda', 'Mover hueco a arriba', 'Mover hueco a derecha', 'Mover hueco a derecha', 'Mover hueco a abajo', 'Mover hueco a izquierda', 'Mover hueco a arriba', 'Mover hueco a derecha', 'Mover hueco a abajo', 'Mover hueco a izquierda', 'Mover hueco a izquierda', 'Mover hueco a arriba', 'Mover hueco a derecha', 'Mover hueco a derecha', 'Mover hueco a abajo', 'Mover hueco a izquierda', 'Mover hueco a izquierda', 'Mover hueco a arriba', 'Mover hueco a derecha', 'Mover hueco a derecha', 'Mover hueco a arriba', 'Mover hueco a izquierda', 'Mover hueco a izquierda', 'Mover hueco a abajo', 'Mover hueco a derecha', 'Mover hueco a derecha', 'Mover hueco a abajo', 'Mover hueco a izquierda', 'Mover hueco a izquierda', 'Mover hueco a arriba', 'Mover hueco a derecha', 'Mover hueco a derecha', 'Mover hueco a abajo', 'Mover hueco a izquierda', 'Mover hueco a izquierda', 'Mover hueco a arriba', 'Mover hueco a derecha', 'Mover hueco a derecha', 'Mover hueco a abajo', 'Mover hueco a izquierda', 'Mover hueco a izquierda', 'Mover hueco a arriba', 'Mover hueco a derecha', 'Mover hueco a derecha', 'Mover hueco a abajo', 'Mover hueco a izquierda', 'Mover hueco a izquierda', 'Mover hueco a arriba', 'Mover hueco a derecha', 'Mover hueco a derecha', 'Mover hueco a abajo', 'Mover hueco a izquierda', 'Mover hueco a arriba', 'Mover hueco a derecha', 'Mover hueco a abajo', 'Mover hueco a izquierda', 'Mover hueco a izquierda', 'Mover hueco a arriba', 'Mover hueco a derecha', 'Mover hueco a derecha', 'Mover hueco a abajo', 'Mover hueco a izquierda', 'Mover hueco a izquierda', 'Mover hueco a arriba', 'Mover hueco a derecha', 'Mover hueco a derecha', 'Mover hueco a arriba', 'Mover hueco a izquierda', 'Mover hueco a izquierda', 'Mover hueco a abajo', 'Mover hueco a derecha', 'Mover hueco a derecha', 'Mover hueco a abajo', 'Mover hueco a izquierda', 'Mover hueco a izquierda', 'Mover hueco a arriba', 'Mover hueco a derecha', 'Mover hueco a derecha', 'Mover hueco a abajo', 'Mover hueco a izquierda', 'Mover hueco a izquierda', 'Mover hueco a arriba', 'Mover hueco a derecha', 'Mover hueco a derecha', 'Mover hueco a abajo', 'Mover hueco a izquierda', 'Mover hueco a izquierda', 'Mover hueco a arriba', 'Mover hueco a derecha', 'Mover hueco a derecha', 'Mover hueco a abajo', 'Mover hueco a izquierda', 'Mover hueco a izquierda', 'Mover hueco a arriba', 'Mover hueco a derecha', 'Mover hueco a derecha', 'Mover hueco a abajo', 'Mover hueco a izquierda', 'Mover hueco a arriba', 'Mover hueco a derecha', 'Mover hueco a abajo', 'Mover hueco a izquierda', 'Mover hueco a izquierda', 'Mover hueco a arriba', 'Mover hueco a derecha', 'Mover hueco a derecha', 'Mover hueco a abajo', 'Mover hueco a izquierda', 'Mover hueco a izquierda', 'Mover hueco a arriba', 'Mover hueco a derecha', 'Mover hueco a derecha', 'Mover hueco a arriba', 'Mover hueco a izquierda', 'Mover hueco a izquierda', 'Mover hueco a abajo', 'Mover hueco a derecha', 'Mover hueco a derecha', 'Mover hueco a arriba', 'Mover hueco a izquierda', 'Mover hueco a izquierda', 'Mover hueco a abajo', 'Mover hueco a derecha', 'Mover hueco a derecha', 'Mover hueco a abajo', 'Mover hueco a izquierda', 'Mover hueco a izquierda', 'Mover hueco a arriba', 'Mover hueco a derecha', 'Mover hueco a derecha', 'Mover hueco a abajo', 'Mover hueco a izquierda', 'Mover hueco a izquierda', 'Mover hueco a arriba', 'Mover hueco a derecha', 'Mover hueco a derecha', 'Mover hueco a abajo', 'Mover hueco a izquierda', 'Mover hueco a izquierda', 'Mover hueco a arriba', 'Mover hueco a derecha', 'Mover hueco a derecha', 'Mover hueco a abajo', 'Mover hueco a izquierda', 'Mover hueco a izquierda', 'Mover hueco a arriba', 'Mover hueco a derecha', 'Mover hueco a derecha', 'Mover hueco a abajo', 'Mover hueco a izquierda', 'Mover hueco a arriba', 'Mover hueco a derecha', 'Mover hueco a abajo', 'Mover hueco a izquierda', 'Mover hueco a izquierda', 'Mover hueco a arriba', 'Mover hueco a derecha', 'Mover hueco a derecha', 'Mover hueco a abajo', 'Mover hueco a izquierda', 'Mover hueco a izquierda', 'Mover hueco a arriba', 'Mover hueco a derecha', 'Mover hueco a derecha', 'Mover hueco a arriba', 'Mover hueco a izquierda', 'Mover hueco a izquierda', 'Mover hueco a abajo', 'Mover hueco a derecha', 'Mover hueco a derecha', 'Mover hueco a abajo', 'Mover hueco a izquierda', 'Mover hueco a izquierda', 'Mover hueco a arriba', 'Mover hueco a derecha', 'Mover hueco a derecha', 'Mover hueco a abajo', 'Mover hueco a izquierda', 'Mover hueco a izquierda', 'Mover hueco a arriba', 'Mover hueco a derecha', 'Mover hueco a derecha', 'Mover hueco a abajo', 'Mover hueco a izquierda', 'Mover hueco a izquierda', 'Mover hueco a arriba', 'Mover hueco a derecha', 'Mover hueco a derecha', 'Mover hueco a abajo', 'Mover hueco a izquierda', 'Mover hueco a izquierda', 'Mover hueco a arriba', 'Mover hueco a derecha', 'Mover hueco a derecha', 'Mover hueco a abajo', 'Mover hueco a izquierda', 'Mover hueco a arriba', 'Mover hueco a derecha', 'Mover hueco a abajo', 'Mover hueco a izquierda', 'Mover hueco a izquierda', 'Mover hueco a arriba', 'Mover hueco a derecha', 'Mover hueco a derecha', 'Mover hueco a abajo', 'Mover hueco a izquierda', 'Mover hueco a izquierda', 'Mover hueco a arriba', 'Mover hueco a derecha', 'Mover hueco a derecha', 'Mover hueco a arriba', 'Mover hueco a izquierda', 'Mover hueco a izquierda', 'Mover hueco a abajo', 'Mover hueco a derecha', 'Mover hueco a derecha', 'Mover hueco a abajo', 'Mover hueco a izquierda', 'Mover hueco a izquierda', 'Mover hueco a arriba', 'Mover hueco a derecha', 'Mover hueco a derecha', 'Mover hueco a abajo', 'Mover hueco a izquierda', 'Mover hueco a izquierda', 'Mover hueco a arriba', 'Mover hueco a derecha', 'Mover hueco a derecha', 'Mover hueco a abajo', 'Mover hueco a izquierda', 'Mover hueco a izquierda', 'Mover hueco a arriba', 'Mover hueco a derecha', 'Mover hueco a derecha', 'Mover hueco a abajo', 'Mover hueco a izquierda', 'Mover hueco a izquierda', 'Mover hueco a arriba', 'Mover hueco a derecha', 'Mover hueco a derecha', 'Mover hueco a abajo', 'Mover hueco a izquierda', 'Mover hueco a arriba', 'Mover hueco a derecha', 'Mover hueco a abajo', 'Mover hueco a izquierda', 'Mover hueco a izquierda', 'Mover hueco a arriba', 'Mover hueco a derecha', 'Mover hueco a derecha', 'Mover hueco a abajo', 'Mover hueco a izquierda', 'Mover hueco a izquierda', 'Mover hueco a arriba', 'Mover hueco a derecha', 'Mover hueco a derecha', 'Mover hueco a arriba', 'Mover hueco a izquierda', 'Mover hueco a abajo', 'Mover hueco a derecha', 'Mover hueco a abajo', 'Mover hueco a izquierda', 'Mover hueco a izquierda', 'Mover hueco a arriba', 'Mover hueco a derecha', 'Mover hueco a derecha', 'Mover hueco a abajo', 'Mover hueco a izquierda', 'Mover hueco a izquierda', 'Mover hueco a arriba', 'Mover hueco a derecha', 'Mover hueco a derecha', 'Mover hueco a abajo', 'Mover hueco a izquierda', 'Mover hueco a izquierda', 'Mover hueco a arriba', 'Mover hueco a derecha', 'Mover hueco a derecha', 'Mover hueco a abajo', 'Mover hueco a izquierda', 'Mover hueco a izquierda', 'Mover hueco a arriba', 'Mover hueco a derecha', 'Mover hueco a derecha', 'Mover hueco a abajo', 'Mover hueco a izquierda', 'Mover hueco a arriba', 'Mover hueco a derecha', 'Mover hueco a abajo', 'Mover hueco a izquierda', 'Mover hueco a izquierda', 'Mover hueco a arriba', 'Mover hueco a derecha', 'Mover hueco a derecha', 'Mover hueco a abajo', 'Mover hueco a izquierda', 'Mover hueco a izquierda', 'Mover hueco a arriba', 'Mover hueco a derecha', 'Mover hueco a derecha', 'Mover hueco a arriba', 'Mover hueco a izquierda', 'Mover hueco a izquierda', 'Mover hueco a abajo', 'Mover hueco a derecha', 'Mover hueco a derecha', 'Mover hueco a abajo', 'Mover hueco a izquierda', 'Mover hueco a izquierda', 'Mover hueco a arriba', 'Mover hueco a derecha', 'Mover hueco a derecha', 'Mover hueco a abajo', 'Mover hueco a izquierda', 'Mover hueco a izquierda', 'Mover hueco a arriba', 'Mover hueco a derecha', 'Mover hueco a derecha', 'Mover hueco a abajo', 'Mover hueco a izquierda', 'Mover hueco a izquierda', 'Mover hueco a arriba', 'Mover hueco a derecha', 'Mover hueco a derecha', 'Mover hueco a abajo', 'Mover hueco a izquierda', 'Mover hueco a izquierda', 'Mover hueco a arriba', 'Mover hueco a derecha', 'Mover hueco a derecha', 'Mover hueco a abajo', 'Mover hueco a izquierda', 'Mover hueco a arriba', 'Mover hueco a derecha', 'Mover hueco a abajo', 'Mover hueco a izquierda', 'Mover hueco a izquierda', 'Mover hueco a arriba', 'Mover hueco a derecha', 'Mover hueco a derecha', 'Mover hueco a abajo', 'Mover hueco a izquierda', 'Mover hueco a izquierda', 'Mover hueco a arriba', 'Mover hueco a derecha', 'Mover hueco a derecha', 'Mover hueco a arriba', 'Mover hueco a izquierda', 'Mover hueco a izquierda', 'Mover hueco a abajo', 'Mover hueco a derecha', 'Mover hueco a derecha', 'Mover hueco a abajo', 'Mover hueco a izquierda', 'Mover hueco a izquierda', 'Mover hueco a arriba', 'Mover hueco a derecha', 'Mover hueco a derecha', 'Mover hueco a abajo', 'Mover hueco a izquierda', 'Mover hueco a izquierda', 'Mover hueco a arriba', 'Mover hueco a derecha', 'Mover hueco a derecha', 'Mover hueco a abajo', 'Mover hueco a izquierda', 'Mover hueco a izquierda', 'Mover hueco a arriba', 'Mover hueco a derecha', 'Mover hueco a derecha', 'Mover hueco a abajo', 'Mover hueco a izquierda', 'Mover hueco a izquierda', 'Mover hueco a arriba', 'Mover hueco a derecha', 'Mover hueco a derecha', 'Mover hueco a abajo', 'Mover hueco a izquierda', 'Mover hueco a arriba', 'Mover hueco a derecha', 'Mover hueco a abajo', 'Mover hueco a izquierda', 'Mover hueco a izquierda', 'Mover hueco a arriba', 'Mover hueco a derecha', 'Mover hueco a derecha', 'Mover hueco a abajo', 'Mover hueco a izquierda', 'Mover hueco a izquierda', 'Mover hueco a arriba', 'Mover hueco a derecha', 'Mover hueco a derecha', 'Mover hueco a arriba', 'Mover hueco a izquierda', 'Mover hueco a izquierda', 'Mover hueco a abajo', 'Mover hueco a derecha', 'Mover hueco a derecha', 'Mover hueco a arriba', 'Mover hueco a izquierda', 'Mover hueco a izquierda', 'Mover hueco a abajo', 'Mover hueco a derecha', 'Mover hueco a derecha', 'Mover hueco a abajo', 'Mover hueco a izquierda', 'Mover hueco a izquierda', 'Mover hueco a arriba', 'Mover hueco a derecha', 'Mover hueco a derecha', 'Mover hueco a abajo', 'Mover hueco a izquierda', 'Mover hueco a izquierda', 'Mover hueco a arriba', 'Mover hueco a derecha', 'Mover hueco a derecha', 'Mover hueco a abajo', 'Mover hueco a izquierda', 'Mover hueco a izquierda', 'Mover hueco a arriba', 'Mover hueco a derecha', 'Mover hueco a derecha', 'Mover hueco a abajo', 'Mover hueco a izquierda', 'Mover hueco a izquierda', 'Mover hueco a arriba', 'Mover hueco a derecha', 'Mover hueco a derecha', 'Mover hueco a abajo', 'Mover hueco a izquierda', 'Mover hueco a arriba', 'Mover hueco a derecha', 'Mover hueco a abajo', 'Mover hueco a izquierda', 'Mover hueco a izquierda', 'Mover hueco a arriba', 'Mover hueco a derecha', 'Mover hueco a derecha', 'Mover hueco a arriba', 'Mover hueco a izquierda', 'Mover hueco a izquierda', 'Mover hueco a abajo', 'Mover hueco a derecha', 'Mover hueco a derecha', 'Mover hueco a abajo', 'Mover hueco a izquierda', 'Mover hueco a arriba', 'Mover hueco a derecha', 'Mover hueco a abajo', 'Mover hueco a izquierda', 'Mover hueco a arriba', 'Mover hueco a arriba', 'Mover hueco a izquierda', 'Mover hueco a abajo', 'Mover hueco a derecha', 'Mover hueco a arriba', 'Mover hueco a derecha', 'Mover hueco a abajo', 'Mover hueco a izquierda', 'Mover hueco a abajo', 'Mover hueco a derecha', 'Mover hueco a arriba', 'Mover hueco a izquierda', 'Mover hueco a izquierda', 'Mover hueco a arriba', 'Mover hueco a derecha', 'Mover hueco a abajo', 'Mover hueco a abajo', 'Mover hueco a derecha', 'Mover hueco a arriba', 'Mover hueco a izquierda']\n",
            "Longitud de la solución: 998. Nodos analizados: 66014, Tiempo de búsqueda: 534.5666038990021\n",
            "[ BúsquedaPrimeroElMejor ]\n",
            "Solución: ['Mover hueco a arriba', 'Mover hueco a arriba', 'Mover hueco a izquierda', 'Mover hueco a abajo', 'Mover hueco a derecha']\n",
            "Heurística: h1_ocho_puzzle\n",
            "Longitud de la solución: 5. Nodos analizados: 6, Tiempo de búsqueda: 0.00021696090698242188\n",
            "[ BúsquedaPrimeroElMejor ]\n",
            "Solución: ['Mover hueco a arriba', 'Mover hueco a izquierda', 'Mover hueco a abajo', 'Mover hueco a derecha', 'Mover hueco a derecha', 'Mover hueco a arriba', 'Mover hueco a izquierda', 'Mover hueco a izquierda', 'Mover hueco a abajo', 'Mover hueco a derecha', 'Mover hueco a derecha', 'Mover hueco a arriba', 'Mover hueco a izquierda', 'Mover hueco a abajo', 'Mover hueco a izquierda', 'Mover hueco a arriba', 'Mover hueco a derecha', 'Mover hueco a abajo']\n",
            "Heurística: h1_ocho_puzzle\n",
            "Longitud de la solución: 18. Nodos analizados: 354, Tiempo de búsqueda: 0.04220724105834961\n",
            "[ BúsquedaPrimeroElMejor ]\n",
            "Solución: ['Mover hueco a arriba', 'Mover hueco a izquierda', 'Mover hueco a abajo', 'Mover hueco a derecha', 'Mover hueco a derecha', 'Mover hueco a abajo', 'Mover hueco a izquierda', 'Mover hueco a arriba', 'Mover hueco a arriba', 'Mover hueco a izquierda', 'Mover hueco a abajo', 'Mover hueco a derecha', 'Mover hueco a arriba', 'Mover hueco a derecha', 'Mover hueco a abajo', 'Mover hueco a izquierda', 'Mover hueco a abajo', 'Mover hueco a izquierda', 'Mover hueco a arriba', 'Mover hueco a derecha', 'Mover hueco a arriba', 'Mover hueco a izquierda', 'Mover hueco a abajo', 'Mover hueco a abajo', 'Mover hueco a derecha', 'Mover hueco a arriba', 'Mover hueco a izquierda', 'Mover hueco a arriba', 'Mover hueco a derecha', 'Mover hueco a abajo']\n",
            "Heurística: h1_ocho_puzzle\n",
            "Longitud de la solución: 30. Nodos analizados: 237, Tiempo de búsqueda: 0.022067546844482422\n",
            "[ BúsquedaPrimeroElMejor ]\n",
            "Solución: ['Mover hueco a arriba', 'Mover hueco a arriba', 'Mover hueco a izquierda', 'Mover hueco a abajo', 'Mover hueco a derecha']\n",
            "Heurística: h2_ocho_puzzle\n",
            "Longitud de la solución: 5. Nodos analizados: 6, Tiempo de búsqueda: 0.00028705596923828125\n",
            "[ BúsquedaPrimeroElMejor ]\n",
            "Solución: ['Mover hueco a arriba', 'Mover hueco a izquierda', 'Mover hueco a abajo', 'Mover hueco a derecha', 'Mover hueco a arriba', 'Mover hueco a derecha', 'Mover hueco a abajo', 'Mover hueco a izquierda', 'Mover hueco a izquierda', 'Mover hueco a arriba', 'Mover hueco a derecha', 'Mover hueco a derecha', 'Mover hueco a abajo', 'Mover hueco a izquierda', 'Mover hueco a izquierda', 'Mover hueco a arriba', 'Mover hueco a derecha', 'Mover hueco a abajo', 'Mover hueco a derecha', 'Mover hueco a arriba', 'Mover hueco a izquierda', 'Mover hueco a izquierda', 'Mover hueco a abajo', 'Mover hueco a derecha']\n",
            "Heurística: h2_ocho_puzzle\n",
            "Longitud de la solución: 24. Nodos analizados: 202, Tiempo de búsqueda: 0.02054286003112793\n",
            "[ BúsquedaPrimeroElMejor ]\n",
            "Solución: ['Mover hueco a derecha', 'Mover hueco a abajo', 'Mover hueco a izquierda', 'Mover hueco a arriba', 'Mover hueco a izquierda', 'Mover hueco a arriba', 'Mover hueco a derecha', 'Mover hueco a derecha', 'Mover hueco a abajo', 'Mover hueco a izquierda', 'Mover hueco a arriba', 'Mover hueco a izquierda', 'Mover hueco a abajo', 'Mover hueco a abajo', 'Mover hueco a derecha', 'Mover hueco a arriba', 'Mover hueco a arriba', 'Mover hueco a izquierda', 'Mover hueco a abajo', 'Mover hueco a derecha', 'Mover hueco a arriba', 'Mover hueco a izquierda', 'Mover hueco a abajo', 'Mover hueco a abajo', 'Mover hueco a derecha', 'Mover hueco a arriba', 'Mover hueco a arriba', 'Mover hueco a izquierda', 'Mover hueco a abajo', 'Mover hueco a derecha', 'Mover hueco a abajo', 'Mover hueco a izquierda', 'Mover hueco a arriba', 'Mover hueco a arriba', 'Mover hueco a derecha', 'Mover hueco a abajo']\n",
            "Heurística: h2_ocho_puzzle\n",
            "Longitud de la solución: 36. Nodos analizados: 227, Tiempo de búsqueda: 0.024303436279296875\n",
            "[ BúsquedaAEstrella ]\n",
            "Solución: ['Mover hueco a arriba', 'Mover hueco a arriba', 'Mover hueco a izquierda', 'Mover hueco a abajo', 'Mover hueco a derecha']\n",
            "Heurística: h1_ocho_puzzle\n",
            "Longitud de la solución: 5. Nodos analizados: 7, Tiempo de búsqueda: 0.00022912025451660156\n",
            "[ BúsquedaAEstrella ]\n",
            "Solución: ['Mover hueco a izquierda', 'Mover hueco a arriba', 'Mover hueco a derecha', 'Mover hueco a derecha', 'Mover hueco a abajo', 'Mover hueco a izquierda', 'Mover hueco a izquierda', 'Mover hueco a arriba', 'Mover hueco a derecha', 'Mover hueco a derecha', 'Mover hueco a abajo', 'Mover hueco a izquierda']\n",
            "Heurística: h1_ocho_puzzle\n",
            "Longitud de la solución: 12. Nodos analizados: 119, Tiempo de búsqueda: 0.007616996765136719\n",
            "[ BúsquedaAEstrella ]\n",
            "Solución: ['Mover hueco a derecha', 'Mover hueco a arriba', 'Mover hueco a izquierda', 'Mover hueco a abajo', 'Mover hueco a derecha', 'Mover hueco a abajo', 'Mover hueco a izquierda', 'Mover hueco a arriba', 'Mover hueco a izquierda', 'Mover hueco a arriba', 'Mover hueco a derecha', 'Mover hueco a derecha', 'Mover hueco a abajo', 'Mover hueco a izquierda', 'Mover hueco a izquierda', 'Mover hueco a arriba', 'Mover hueco a derecha', 'Mover hueco a abajo']\n",
            "Heurística: h1_ocho_puzzle\n",
            "Longitud de la solución: 18. Nodos analizados: 1747, Tiempo de búsqueda: 0.9466314315795898\n",
            "[ BúsquedaAEstrella ]\n",
            "Solución: ['Mover hueco a arriba', 'Mover hueco a arriba', 'Mover hueco a izquierda', 'Mover hueco a abajo', 'Mover hueco a derecha']\n",
            "Heurística: h2_ocho_puzzle\n",
            "Longitud de la solución: 5. Nodos analizados: 6, Tiempo de búsqueda: 0.0003447532653808594\n",
            "[ BúsquedaAEstrella ]\n",
            "Solución: ['Mover hueco a izquierda', 'Mover hueco a arriba', 'Mover hueco a derecha', 'Mover hueco a derecha', 'Mover hueco a abajo', 'Mover hueco a izquierda', 'Mover hueco a izquierda', 'Mover hueco a arriba', 'Mover hueco a derecha', 'Mover hueco a derecha', 'Mover hueco a abajo', 'Mover hueco a izquierda']\n",
            "Heurística: h2_ocho_puzzle\n",
            "Longitud de la solución: 12. Nodos analizados: 29, Tiempo de búsqueda: 0.001554727554321289\n",
            "[ BúsquedaAEstrella ]\n",
            "Solución: ['Mover hueco a derecha', 'Mover hueco a arriba', 'Mover hueco a izquierda', 'Mover hueco a abajo', 'Mover hueco a derecha', 'Mover hueco a abajo', 'Mover hueco a izquierda', 'Mover hueco a arriba', 'Mover hueco a izquierda', 'Mover hueco a arriba', 'Mover hueco a derecha', 'Mover hueco a derecha', 'Mover hueco a abajo', 'Mover hueco a izquierda', 'Mover hueco a izquierda', 'Mover hueco a arriba', 'Mover hueco a derecha', 'Mover hueco a abajo']\n",
            "Heurística: h2_ocho_puzzle\n",
            "Longitud de la solución: 18. Nodos analizados: 227, Tiempo de búsqueda: 0.02620553970336914\n"
          ],
          "name": "stdout"
        }
      ]
    },
    {
      "cell_type": "markdown",
      "metadata": {
        "id": "AjsZm-UqBCpI",
        "colab_type": "text"
      },
      "source": [
        "\n",
        "El siguiente bloque de código construirá una tabla para reportar todos los resultados "
      ]
    },
    {
      "cell_type": "code",
      "metadata": {
        "id": "2TiOIm2JCZe0",
        "colab_type": "code",
        "outputId": "48d4e37a-7e31-4151-89c1-12c79c5f07c7",
        "colab": {
          "base_uri": "https://localhost:8080/",
          "height": 342
        }
      },
      "source": [
        "import pandas as pd\n",
        "\n",
        "resultados_experimento = pd.DataFrame({\n",
        "    'metodos' : metodos,\n",
        "    'resultados_e1' : resultados_e1,\n",
        "    'resultados_e2' : resultados_e2,\n",
        "    'resultados_e3' : resultados_e3,\n",
        "    # 'resultados_e4' : resultados_e4\n",
        "})\n",
        "\n",
        "resultados_experimento"
      ],
      "execution_count": 0,
      "outputs": [
        {
          "output_type": "execute_result",
          "data": {
            "text/html": [
              "<div>\n",
              "<style scoped>\n",
              "    .dataframe tbody tr th:only-of-type {\n",
              "        vertical-align: middle;\n",
              "    }\n",
              "\n",
              "    .dataframe tbody tr th {\n",
              "        vertical-align: top;\n",
              "    }\n",
              "\n",
              "    .dataframe thead th {\n",
              "        text-align: right;\n",
              "    }\n",
              "</style>\n",
              "<table border=\"1\" class=\"dataframe\">\n",
              "  <thead>\n",
              "    <tr style=\"text-align: right;\">\n",
              "      <th></th>\n",
              "      <th>metodos</th>\n",
              "      <th>resultados_e1</th>\n",
              "      <th>resultados_e2</th>\n",
              "      <th>resultados_e3</th>\n",
              "    </tr>\n",
              "  </thead>\n",
              "  <tbody>\n",
              "    <tr>\n",
              "      <th>0</th>\n",
              "      <td>&lt;class '__main__.BúsquedaEnAnchura'&gt;</td>\n",
              "      <td>{'longitud': 5, 'analizados': 35, 'tiempo': 0....</td>\n",
              "      <td>{'longitud': 12, 'analizados': 2032, 'tiempo':...</td>\n",
              "      <td>{'longitud': 18, 'analizados': 22912, 'tiempo'...</td>\n",
              "    </tr>\n",
              "    <tr>\n",
              "      <th>1</th>\n",
              "      <td>&lt;function con_cota.&lt;locals&gt;.BúsquedaEnProfundi...</td>\n",
              "      <td>{'longitud': 999, 'analizados': 1374, 'tiempo'...</td>\n",
              "      <td>{'longitud': 990, 'analizados': 16868, 'tiempo...</td>\n",
              "      <td>{'longitud': 998, 'analizados': 66014, 'tiempo...</td>\n",
              "    </tr>\n",
              "    <tr>\n",
              "      <th>2</th>\n",
              "      <td>&lt;class '__main__.BúsquedaPrimeroElMejor'&gt;&lt;func...</td>\n",
              "      <td>{'longitud': 5, 'analizados': 6, 'tiempo': 0.0...</td>\n",
              "      <td>{'longitud': 18, 'analizados': 354, 'tiempo': ...</td>\n",
              "      <td>{'longitud': 30, 'analizados': 237, 'tiempo': ...</td>\n",
              "    </tr>\n",
              "    <tr>\n",
              "      <th>3</th>\n",
              "      <td>&lt;class '__main__.BúsquedaPrimeroElMejor'&gt;&lt;func...</td>\n",
              "      <td>{'longitud': 5, 'analizados': 6, 'tiempo': 0.0...</td>\n",
              "      <td>{'longitud': 24, 'analizados': 202, 'tiempo': ...</td>\n",
              "      <td>{'longitud': 36, 'analizados': 227, 'tiempo': ...</td>\n",
              "    </tr>\n",
              "    <tr>\n",
              "      <th>4</th>\n",
              "      <td>&lt;class '__main__.BúsquedaAEstrella'&gt;&lt;function ...</td>\n",
              "      <td>{'longitud': 5, 'analizados': 7, 'tiempo': 0.0...</td>\n",
              "      <td>{'longitud': 12, 'analizados': 119, 'tiempo': ...</td>\n",
              "      <td>{'longitud': 18, 'analizados': 1747, 'tiempo':...</td>\n",
              "    </tr>\n",
              "    <tr>\n",
              "      <th>5</th>\n",
              "      <td>&lt;class '__main__.BúsquedaAEstrella'&gt;&lt;function ...</td>\n",
              "      <td>{'longitud': 5, 'analizados': 6, 'tiempo': 0.0...</td>\n",
              "      <td>{'longitud': 12, 'analizados': 29, 'tiempo': 0...</td>\n",
              "      <td>{'longitud': 18, 'analizados': 227, 'tiempo': ...</td>\n",
              "    </tr>\n",
              "  </tbody>\n",
              "</table>\n",
              "</div>"
            ],
            "text/plain": [
              "                                             metodos  ...                                      resultados_e3\n",
              "0               <class '__main__.BúsquedaEnAnchura'>  ...  {'longitud': 18, 'analizados': 22912, 'tiempo'...\n",
              "1  <function con_cota.<locals>.BúsquedaEnProfundi...  ...  {'longitud': 998, 'analizados': 66014, 'tiempo...\n",
              "2  <class '__main__.BúsquedaPrimeroElMejor'><func...  ...  {'longitud': 30, 'analizados': 237, 'tiempo': ...\n",
              "3  <class '__main__.BúsquedaPrimeroElMejor'><func...  ...  {'longitud': 36, 'analizados': 227, 'tiempo': ...\n",
              "4  <class '__main__.BúsquedaAEstrella'><function ...  ...  {'longitud': 18, 'analizados': 1747, 'tiempo':...\n",
              "5  <class '__main__.BúsquedaAEstrella'><function ...  ...  {'longitud': 18, 'analizados': 227, 'tiempo': ...\n",
              "\n",
              "[6 rows x 4 columns]"
            ]
          },
          "metadata": {
            "tags": []
          },
          "execution_count": 136
        }
      ]
    },
    {
      "cell_type": "markdown",
      "metadata": {
        "id": "5GPVXD31CZwF",
        "colab_type": "text"
      },
      "source": [
        "Analizar los resultados de la  tabla y justificarlos con las distintas propiedades teóricas estudiadas.\n",
        "\n",
        "\n",
        "# Análisis\n",
        "\n",
        "La **Búsqueda en anchura** obtiene la solución óptima ya que estamos considerando el costo de acción como uniforme. Sin embargo, es complejo espacialmente.\n",
        "\n",
        "Fue necesario colocarle a **Búsqueda en profundidad** una cota, en caso contrario nunca se encontraría el camino solución. O tal vez, podría llegar a demorar horas. Mediante la cota se logra que llegado a determinado límite de profundidad, se expandan otras ramas (se vuelve por la rama actual para explorar otras). Asegurando así que en algún momento encontrará la solución y no explorará infinitamente la misma rama. Así, **BúsquedaEnProfunidadAcotada** permite la completitud. Pero no el óptimo.\n",
        "\n",
        "Las búsquedas informadas tienen menor complejidad espacial y temporal que las ciegas, ya que mediante la heurística se guía la exploración para encontrar el camino solución. Sin embargo, **Búsqueda primero el mejor** o Voraz demora más tiempo y es más compleja espacialmente que una búsqueda **A\\***.\n",
        "\n",
        "Para este tipo de problema, la **Búsqueda A\\*** resultó la más apropiada en términos de complejidad temporal y espacial. Considerando tanto el costo de camino hasta el nodo actual y una heurística **admisible**, guía la exploración para encontrar el camino solución óptimo, y también, lo hace de forma óptima (realizando el menor recorrido posible).\n",
        "\n",
        "Todos los algoritmos encontraron caminos solución similares, variando en, relativamente, algunos pasos, excepto al utilizar la búsqueda en profunidad, donde esto se disparó a caminos soluciones cuya longitud es cercana a 1000 (debido a la cota). Además, se exploraron una gran cantidad de nodos en comparación a los demás algoritmos."
      ]
    }
  ]
}